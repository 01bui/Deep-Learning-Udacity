{
 "cells": [
  {
   "cell_type": "markdown",
   "metadata": {
    "colab_type": "text",
    "id": "kR-4eNdK6lYS"
   },
   "source": [
    "Deep Learning\n",
    "=============\n",
    "\n",
    "Assignment 2\n",
    "------------\n",
    "\n",
    "Previously in `1_notmnist.ipynb`, we created a pickle with formatted datasets for training, development and testing on the [notMNIST dataset](http://yaroslavvb.blogspot.com/2011/09/notmnist-dataset.html).\n",
    "\n",
    "The goal of this assignment is to progressively train deeper and more accurate models using TensorFlow."
   ]
  },
  {
   "cell_type": "code",
   "execution_count": 1,
   "metadata": {
    "cellView": "both",
    "colab": {
     "autoexec": {
      "startup": false,
      "wait_interval": 0
     }
    },
    "colab_type": "code",
    "collapsed": false,
    "id": "JLpLa8Jt7Vu4"
   },
   "outputs": [],
   "source": [
    "# These are all the modules we'll be using later. Make sure you can import them\n",
    "# before proceeding further.\n",
    "from __future__ import print_function\n",
    "import numpy as np\n",
    "import tensorflow as tf\n",
    "from six.moves import cPickle as pickle\n",
    "from six.moves import range"
   ]
  },
  {
   "cell_type": "markdown",
   "metadata": {
    "colab_type": "text",
    "id": "1HrCK6e17WzV"
   },
   "source": [
    "First reload the data we generated in `1_notmnist.ipynb`."
   ]
  },
  {
   "cell_type": "code",
   "execution_count": 2,
   "metadata": {
    "cellView": "both",
    "colab": {
     "autoexec": {
      "startup": false,
      "wait_interval": 0
     },
     "output_extras": [
      {
       "item_id": 1
      }
     ]
    },
    "colab_type": "code",
    "collapsed": false,
    "executionInfo": {
     "elapsed": 19456,
     "status": "ok",
     "timestamp": 1449847956073,
     "user": {
      "color": "",
      "displayName": "",
      "isAnonymous": false,
      "isMe": true,
      "permissionId": "",
      "photoUrl": "",
      "sessionId": "0",
      "userId": ""
     },
     "user_tz": 480
    },
    "id": "y3-cj1bpmuxc",
    "outputId": "0ddb1607-1fc4-4ddb-de28-6c7ab7fb0c33"
   },
   "outputs": [
    {
     "name": "stdout",
     "output_type": "stream",
     "text": [
      "Training set (200000, 28, 28) (200000,)\n",
      "Validation set (10000, 28, 28) (10000,)\n",
      "Test set (10000, 28, 28) (10000,)\n"
     ]
    }
   ],
   "source": [
    "pickle_file = 'notMNIST_200k.pickle'\n",
    "\n",
    "with open(pickle_file, 'rb') as f:\n",
    "  save = pickle.load(f)\n",
    "  train_dataset = save['train_dataset']\n",
    "  train_labels = save['train_labels']\n",
    "  valid_dataset = save['valid_dataset']\n",
    "  valid_labels = save['valid_labels']\n",
    "  test_dataset = save['test_dataset']\n",
    "  test_labels = save['test_labels']\n",
    "  del save  # hint to help gc free up memory\n",
    "  print('Training set', train_dataset.shape, train_labels.shape)\n",
    "  print('Validation set', valid_dataset.shape, valid_labels.shape)\n",
    "  print('Test set', test_dataset.shape, test_labels.shape)"
   ]
  },
  {
   "cell_type": "markdown",
   "metadata": {
    "colab_type": "text",
    "id": "L7aHrm6nGDMB"
   },
   "source": [
    "Reformat into a shape that's more adapted to the models we're going to train:\n",
    "- data as a flat matrix,\n",
    "- labels as float 1-hot encodings."
   ]
  },
  {
   "cell_type": "code",
   "execution_count": 3,
   "metadata": {
    "cellView": "both",
    "colab": {
     "autoexec": {
      "startup": false,
      "wait_interval": 0
     },
     "output_extras": [
      {
       "item_id": 1
      }
     ]
    },
    "colab_type": "code",
    "collapsed": false,
    "executionInfo": {
     "elapsed": 19723,
     "status": "ok",
     "timestamp": 1449847956364,
     "user": {
      "color": "",
      "displayName": "",
      "isAnonymous": false,
      "isMe": true,
      "permissionId": "",
      "photoUrl": "",
      "sessionId": "0",
      "userId": ""
     },
     "user_tz": 480
    },
    "id": "IRSyYiIIGIzS",
    "outputId": "2ba0fc75-1487-4ace-a562-cf81cae82793"
   },
   "outputs": [
    {
     "name": "stdout",
     "output_type": "stream",
     "text": [
      "Training set (200000, 784) (200000, 10)\n",
      "Validation set (10000, 784) (10000, 10)\n",
      "Test set (10000, 784) (10000, 10)\n"
     ]
    }
   ],
   "source": [
    "import pdb\n",
    "\n",
    "image_size = 28\n",
    "num_labels = 10\n",
    "\n",
    "def reformat(dataset, labels):\n",
    "  #pdb.set_trace()\n",
    "  dataset = dataset.reshape((-1, image_size * image_size)).astype(np.float32)\n",
    "  # Map 0 to [1.0, 0.0, 0.0 ...], 1 to [0.0, 1.0, 0.0 ...]\n",
    "  labels = (np.arange(num_labels) == labels[:,None]).astype(np.float32)\n",
    "  return dataset, labels\n",
    "train_dataset, train_labels = reformat(train_dataset, train_labels)\n",
    "valid_dataset, valid_labels = reformat(valid_dataset, valid_labels)\n",
    "test_dataset, test_labels = reformat(test_dataset, test_labels)\n",
    "print('Training set', train_dataset.shape, train_labels.shape)\n",
    "print('Validation set', valid_dataset.shape, valid_labels.shape)\n",
    "print('Test set', test_dataset.shape, test_labels.shape)"
   ]
  },
  {
   "cell_type": "markdown",
   "metadata": {
    "colab_type": "text",
    "id": "nCLVqyQ5vPPH"
   },
   "source": [
    "We're first going to train a multinomial logistic regression using simple gradient descent.\n",
    "\n",
    "TensorFlow works like this:\n",
    "* First you describe the computation that you want to see performed: what the inputs, the variables, and the operations look like. These get created as nodes over a computation graph. This description is all contained within the block below:\n",
    "\n",
    "      with graph.as_default():\n",
    "          ...\n",
    "\n",
    "* Then you can run the operations on this graph as many times as you want by calling `session.run()`, providing it outputs to fetch from the graph that get returned. This runtime operation is all contained in the block below:\n",
    "\n",
    "      with tf.Session(graph=graph) as session:\n",
    "          ...\n",
    "\n",
    "Let's load all the data into TensorFlow and build the computation graph corresponding to our training:"
   ]
  },
  {
   "cell_type": "code",
   "execution_count": 24,
   "metadata": {
    "cellView": "both",
    "colab": {
     "autoexec": {
      "startup": false,
      "wait_interval": 0
     }
    },
    "colab_type": "code",
    "collapsed": false,
    "id": "Nfv39qvtvOl_"
   },
   "outputs": [
    {
     "name": "stderr",
     "output_type": "stream",
     "text": [
      "/usr/local/lib/python2.7/site-packages/ipykernel/__main__.py:11: DeprecationWarning: using a non-integer number instead of an integer will result in an error in the future\n",
      "/usr/local/lib/python2.7/site-packages/ipykernel/__main__.py:12: DeprecationWarning: using a non-integer number instead of an integer will result in an error in the future\n"
     ]
    }
   ],
   "source": [
    "# With gradient descent training, even this much data is prohibitive.\n",
    "# Subset the training data for faster turnaround.\n",
    "train_subset = 10000. # Run all 200k training data\n",
    "\n",
    "graph = tf.Graph()\n",
    "with graph.as_default():\n",
    "\n",
    "  # Input data.\n",
    "  # Load the training, validation and test data into constants that are\n",
    "  # attached to the graph.\n",
    "  tf_train_dataset = tf.constant(train_dataset[:train_subset, :]) #train_dataset[:train_subset, :]\n",
    "  tf_train_labels = tf.constant(train_labels[:train_subset, :])\n",
    "  tf_valid_dataset = tf.constant(valid_dataset)\n",
    "  tf_test_dataset = tf.constant(test_dataset)\n",
    "  \n",
    "  # Variables.\n",
    "  # These are the parameters that we are going to be training. The weight\n",
    "  # matrix will be initialized using random valued following a (truncated)\n",
    "  # normal distribution. The biases get initialized to zero.\n",
    "  weights = tf.Variable(tf.truncated_normal([image_size * image_size, num_labels]))\n",
    "  biases = tf.Variable(tf.zeros([num_labels]))\n",
    "  \n",
    "  # Training computation.\n",
    "  # We multiply the inputs with the weight matrix, and add biases. We compute\n",
    "  # the softmax and cross-entropy (it's one operation in TensorFlow, because\n",
    "  # it's very common, and it can be optimized). We take the average of this\n",
    "  # cross-entropy across all training examples: that's our loss.\n",
    "  logits = tf.matmul(tf_train_dataset, weights) + biases\n",
    "  loss = tf.reduce_mean(tf.nn.softmax_cross_entropy_with_logits(logits, tf_train_labels))\n",
    "  \n",
    "  # Optimizer.\n",
    "  # We are going to find the minimum of this loss using gradient descent.\n",
    "  optimizer = tf.train.GradientDescentOptimizer(0.5).minimize(loss)\n",
    "  \n",
    "  # Predictions for the training, validation, and test data.\n",
    "  # These are not part of training, but merely here so that we can report\n",
    "  # accuracy figures as we train.\n",
    "  train_prediction = tf.nn.softmax(logits)\n",
    "  valid_prediction = tf.nn.softmax(tf.matmul(tf_valid_dataset, weights) + biases)\n",
    "  test_prediction = tf.nn.softmax(tf.matmul(tf_test_dataset, weights) + biases)"
   ]
  },
  {
   "cell_type": "markdown",
   "metadata": {
    "colab_type": "text",
    "id": "KQcL4uqISHjP"
   },
   "source": [
    "Let's run this computation and iterate:"
   ]
  },
  {
   "cell_type": "code",
   "execution_count": 25,
   "metadata": {
    "cellView": "both",
    "colab": {
     "autoexec": {
      "startup": false,
      "wait_interval": 0
     },
     "output_extras": [
      {
       "item_id": 9
      }
     ]
    },
    "colab_type": "code",
    "collapsed": false,
    "executionInfo": {
     "elapsed": 57454,
     "status": "ok",
     "timestamp": 1449847994134,
     "user": {
      "color": "",
      "displayName": "",
      "isAnonymous": false,
      "isMe": true,
      "permissionId": "",
      "photoUrl": "",
      "sessionId": "0",
      "userId": ""
     },
     "user_tz": 480
    },
    "id": "z2cjdenH869W",
    "outputId": "4c037ba1-b526-4d8e-e632-91e2a0333267"
   },
   "outputs": [
    {
     "name": "stdout",
     "output_type": "stream",
     "text": [
      "Initialized\n",
      "Test accuracy: 83.5%\n"
     ]
    },
    {
     "name": "stderr",
     "output_type": "stream",
     "text": [
      "/usr/local/lib/python2.7/site-packages/ipykernel/__main__.py:22: DeprecationWarning: using a non-integer number instead of an integer will result in an error in the future\n"
     ]
    }
   ],
   "source": [
    "num_steps = 3001\n",
    "\n",
    "def accuracy(predictions, labels):\n",
    "  return (100.0 * np.sum(np.argmax(predictions, 1) == np.argmax(labels, 1))\n",
    "          / predictions.shape[0])\n",
    "\n",
    "with tf.Session(graph=graph) as session:\n",
    "  # This is a one-time operation which ensures the parameters get initialized as\n",
    "  # we described in the graph: random weights for the matrix, zeros for the\n",
    "  # biases. \n",
    "  tf.initialize_all_variables().run()\n",
    "  lossVec = []\n",
    "  trainAcc = []\n",
    "  validAcc = []\n",
    "  print('Initialized')\n",
    "  for step in range(num_steps):\n",
    "    # Run the computations. We tell .run() that we want to run the optimizer,\n",
    "    # and get the loss value and the training predictions returned as numpy\n",
    "    # arrays.\n",
    "    _, l, predictions = session.run([optimizer, loss, train_prediction])\n",
    "    lossVec.append(l)\n",
    "    trainAcc.append(accuracy(predictions, train_labels[:train_subset, :]))\n",
    "    validAcc.append(accuracy(valid_prediction.eval(), valid_labels))\n",
    "    \"\"\"\n",
    "    if (step % 100 == 0):\n",
    "      print('Loss at step %d: %f' % (step, l))\n",
    "      print('Training accuracy: %.1f%%' % accuracy(predictions, train_labels[:train_subset, :]))\n",
    "      # Calling .eval() on valid_prediction is basically like calling run(), but\n",
    "      # just to get that one numpy array. Note that it recomputes all its graph\n",
    "      # dependencies.\n",
    "      print('Validation accuracy: %.1f%%' % accuracy(valid_prediction.eval(), valid_labels))\n",
    "    \"\"\"\n",
    "  print('Test accuracy: %.1f%%' % accuracy(test_prediction.eval(), test_labels))"
   ]
  },
  {
   "cell_type": "code",
   "execution_count": 27,
   "metadata": {
    "collapsed": false
   },
   "outputs": [],
   "source": [
    "import matplotlib.pyplot as plt\n",
    "plt.clf()\n",
    "plt.plot(lossVec)\n",
    "plt.xlabel('Steps')\n",
    "plt.ylabel('Loss')\n",
    "plt.show()\n",
    "\n",
    "plt.clf()\n",
    "plt.plot(trainAcc, label= \"Training Accuracy\")\n",
    "plt.plot(validAcc, label= \"Valid Accuracy\")\n",
    "plt.xlabel('Steps')\n",
    "plt.ylabel('Accuracy')\n",
    "plt.legend(loc=4)\n",
    "plt.show()\n",
    "\n"
   ]
  },
  {
   "cell_type": "markdown",
   "metadata": {
    "colab_type": "text",
    "id": "x68f-hxRGm3H"
   },
   "source": [
    "Let's now switch to stochastic gradient descent training instead, which is much faster.\n",
    "\n",
    "The graph will be similar, except that instead of holding all the training data into a constant node, we create a `Placeholder` node which will be fed actual data at every call of `sesion.run()`."
   ]
  },
  {
   "cell_type": "code",
   "execution_count": 28,
   "metadata": {
    "cellView": "both",
    "colab": {
     "autoexec": {
      "startup": false,
      "wait_interval": 0
     }
    },
    "colab_type": "code",
    "collapsed": false,
    "id": "qhPMzWYRGrzM"
   },
   "outputs": [],
   "source": [
    "batch_size = 128\n",
    "\n",
    "graph = tf.Graph()\n",
    "with graph.as_default():\n",
    "\n",
    "  # Input data. For the training data, we use a placeholder that will be fed\n",
    "  # at run time with a training minibatch.\n",
    "  tf_train_dataset = tf.placeholder(tf.float32,shape=(batch_size, image_size * image_size))\n",
    "  tf_train_labels = tf.placeholder(tf.float32, shape=(batch_size, num_labels))\n",
    "  tf_valid_dataset = tf.constant(valid_dataset)\n",
    "  tf_test_dataset = tf.constant(test_dataset)\n",
    "  \n",
    "  # Variables.\n",
    "  weights = tf.Variable(tf.truncated_normal([image_size * image_size, num_labels]))\n",
    "  biases = tf.Variable(tf.zeros([num_labels]))\n",
    "  \n",
    "  # Training computation.\n",
    "  logits = tf.matmul(tf_train_dataset, weights) + biases\n",
    "  loss = tf.reduce_mean(tf.nn.softmax_cross_entropy_with_logits(logits, tf_train_labels))\n",
    "    \n",
    "  # Optimizer.\n",
    "  optimizer = tf.train.GradientDescentOptimizer(0.5).minimize(loss)\n",
    "  \n",
    "  # Predictions for the training, validation, and test data.\n",
    "  train_prediction = tf.nn.softmax(logits)\n",
    "  valid_prediction = tf.nn.softmax(tf.matmul(tf_valid_dataset, weights) + biases)\n",
    "  test_prediction = tf.nn.softmax(tf.matmul(tf_test_dataset, weights) + biases)"
   ]
  },
  {
   "cell_type": "markdown",
   "metadata": {
    "colab_type": "text",
    "id": "XmVZESmtG4JH"
   },
   "source": [
    "Let's run it:"
   ]
  },
  {
   "cell_type": "code",
   "execution_count": 29,
   "metadata": {
    "cellView": "both",
    "colab": {
     "autoexec": {
      "startup": false,
      "wait_interval": 0
     },
     "output_extras": [
      {
       "item_id": 6
      }
     ]
    },
    "colab_type": "code",
    "collapsed": false,
    "executionInfo": {
     "elapsed": 66292,
     "status": "ok",
     "timestamp": 1449848003013,
     "user": {
      "color": "",
      "displayName": "",
      "isAnonymous": false,
      "isMe": true,
      "permissionId": "",
      "photoUrl": "",
      "sessionId": "0",
      "userId": ""
     },
     "user_tz": 480
    },
    "id": "FoF91pknG_YW",
    "outputId": "d255c80e-954d-4183-ca1c-c7333ce91d0a",
    "scrolled": true
   },
   "outputs": [
    {
     "name": "stdout",
     "output_type": "stream",
     "text": [
      "Initialized\n",
      "Test accuracy: 86.8%\n"
     ]
    }
   ],
   "source": [
    "num_steps = 3001\n",
    "\n",
    "with tf.Session(graph=graph) as session:\n",
    "  tf.initialize_all_variables().run()\n",
    "  lossVec = []\n",
    "  trainAcc = []\n",
    "  validAcc = []\n",
    "  print(\"Initialized\")\n",
    "  for step in range(num_steps):\n",
    "    # Pick an offset within the training data, which has been randomized.\n",
    "    # Note: we could use better randomization across epochs.\n",
    "    offset = (step * batch_size) % (train_labels.shape[0] - batch_size)\n",
    "    # Generate a minibatch.\n",
    "    batch_data = train_dataset[offset:(offset + batch_size), :]\n",
    "    batch_labels = train_labels[offset:(offset + batch_size), :]\n",
    "    # Prepare a dictionary telling the session where to feed the minibatch.\n",
    "    # The key of the dictionary is the placeholder node of the graph to be fed,\n",
    "    # and the value is the numpy array to feed to it.\n",
    "    feed_dict = {tf_train_dataset : batch_data, tf_train_labels : batch_labels}\n",
    "    _, l, predictions = session.run(\n",
    "      [optimizer, loss, train_prediction], feed_dict=feed_dict)\n",
    "    \"\"\"\n",
    "    if (step % 500 == 0):\n",
    "      print(\"Minibatch loss at step %d: %f\" % (step, l))\n",
    "      print(\"Minibatch accuracy: %.1f%%\" % accuracy(predictions, batch_labels))\n",
    "      print(\"Validation accuracy: %.1f%%\" % accuracy(\n",
    "        valid_prediction.eval(), valid_labels))\n",
    "    \"\"\"\n",
    "    lossVec.append(l)\n",
    "    trainAcc.append(accuracy(predictions, batch_labels))\n",
    "    validAcc.append(accuracy(valid_prediction.eval(), valid_labels))\n",
    "  print(\"Test accuracy: %.1f%%\" % accuracy(test_prediction.eval(), test_labels))"
   ]
  },
  {
   "cell_type": "code",
   "execution_count": 31,
   "metadata": {
    "collapsed": true
   },
   "outputs": [],
   "source": [
    "import matplotlib.pyplot as plt\n",
    "plt.clf()\n",
    "plt.plot(lossVec)\n",
    "plt.xlabel('Steps')\n",
    "plt.ylabel('Loss')\n",
    "plt.show()\n",
    "\n",
    "plt.clf()\n",
    "plt.plot(trainAcc, label= \"Minibatch Accuracy\")\n",
    "plt.plot(validAcc, label= \"Valid Accuracy\")\n",
    "plt.xlabel('Steps')\n",
    "plt.ylabel('Accuracy')\n",
    "plt.legend(loc=4)\n",
    "plt.show()\n"
   ]
  },
  {
   "cell_type": "markdown",
   "metadata": {
    "colab_type": "text",
    "id": "7omWxtvLLxik"
   },
   "source": [
    "---\n",
    "Problem\n",
    "-------\n",
    "\n",
    "Turn the logistic regression example with SGD into a 1-hidden layer neural network with rectified linear units (nn.relu()) and 1024 hidden nodes. This model should improve your validation / test accuracy.\n",
    "\n",
    "---"
   ]
  },
  {
   "cell_type": "code",
   "execution_count": 4,
   "metadata": {
    "collapsed": false
   },
   "outputs": [],
   "source": [
    "batch_size = 128\n",
    "hidden_layer_size = 1024\n",
    "\n",
    "graph = tf.Graph()\n",
    "with graph.as_default():\n",
    "\n",
    "  # Input data. For the training data, we use a placeholder that will be fed\n",
    "  # at run time with a training minibatch.\n",
    "  tf_train_dataset = tf.placeholder(tf.float32,shape=(batch_size, image_size * image_size))\n",
    "  tf_train_labels = tf.placeholder(tf.float32, shape=(batch_size, num_labels))\n",
    "  tf_valid_dataset = tf.constant(valid_dataset)\n",
    "  tf_test_dataset = tf.constant(test_dataset)\n",
    "  \n",
    "  # Variables.\n",
    "  weightsHidden = tf.Variable(tf.truncated_normal([image_size * image_size, hidden_layer_size]))\n",
    "  biasesHidden = tf.Variable(tf.zeros([hidden_layer_size]))\n",
    "\n",
    "  weights = tf.Variable(tf.truncated_normal([hidden_layer_size, num_labels]))\n",
    "  biases = tf.Variable(tf.zeros([num_labels]))\n",
    "    \n",
    "  logitsHidden = tf.matmul(tf_train_dataset, weightsHidden) + biasesHidden\n",
    "  hiddenLayer = tf.nn.relu(logitsHidden)\n",
    "\n",
    "  # Training computation.\n",
    "  logits = tf.matmul(hiddenLayer, weights) + biases\n",
    "  loss = tf.reduce_mean(tf.nn.softmax_cross_entropy_with_logits(logits, tf_train_labels))\n",
    " \n",
    "  # Optimizer.\n",
    "  optimizer = tf.train.GradientDescentOptimizer(0.5).minimize(loss)\n",
    "  \n",
    "  # Predictions for the training, validation, and test data.\n",
    "  train_prediction = tf.nn.softmax(logits)\n",
    "    \n",
    "  valid_hidden = tf.nn.relu(tf.matmul(tf_valid_dataset, weightsHidden) + biasesHidden)\n",
    "  valid_logits = tf.matmul(valid_hidden, weights) + biases\n",
    "  valid_prediction = tf.nn.softmax(valid_logits)\n",
    "    \n",
    "  test_hidden = tf.nn.relu(tf.matmul(tf_test_dataset, weightsHidden) + biasesHidden)\n",
    "  test_logits = tf.matmul(test_hidden, weights) + biases\n",
    "  test_prediction = tf.nn.softmax(test_logits)"
   ]
  },
  {
   "cell_type": "code",
   "execution_count": 6,
   "metadata": {
    "collapsed": false
   },
   "outputs": [
    {
     "name": "stdout",
     "output_type": "stream",
     "text": [
      "Initialized\n",
      "Minibatch loss at step 0: 294.453857\n",
      "Minibatch loss at step 100: 25.903187\n",
      "Minibatch loss at step 200: 49.014881\n",
      "Minibatch loss at step 300: 20.449303\n",
      "Minibatch loss at step 400: 32.304825\n",
      "Minibatch loss at step 500: 19.614372\n",
      "Minibatch loss at step 600: 12.178806\n",
      "Minibatch loss at step 700: 31.139439\n",
      "Minibatch loss at step 800: 6.888573\n",
      "Minibatch loss at step 900: 8.415754\n",
      "Minibatch loss at step 1000: 11.650371\n",
      "Minibatch loss at step 1100: 18.979389\n",
      "Minibatch loss at step 1200: 16.012829\n",
      "Minibatch loss at step 1300: 7.588346\n",
      "Minibatch loss at step 1400: 7.024184\n",
      "Minibatch loss at step 1500: 7.070252\n",
      "Minibatch loss at step 1600: 4.128470\n",
      "Minibatch loss at step 1700: 1.147847\n",
      "Minibatch loss at step 1800: 2.568570\n",
      "Minibatch loss at step 1900: 6.358519\n",
      "Minibatch loss at step 2000: 2.701953\n",
      "Minibatch loss at step 2100: 2.706118\n",
      "Minibatch loss at step 2200: 4.188989\n",
      "Minibatch loss at step 2300: 7.529970\n",
      "Minibatch loss at step 2400: 3.524499\n",
      "Minibatch loss at step 2500: 2.975404\n",
      "Minibatch loss at step 2600: 11.536954\n",
      "Minibatch loss at step 2700: 3.401830\n",
      "Minibatch loss at step 2800: 7.373300\n",
      "Minibatch loss at step 2900: 3.816592\n",
      "Minibatch loss at step 3000: 1.548020\n",
      "Minibatch loss at step 3100: 12.579281\n",
      "Minibatch loss at step 3200: 1.327483\n",
      "Minibatch loss at step 3300: 2.814205\n",
      "Minibatch loss at step 3400: 1.480454\n",
      "Minibatch loss at step 3500: 3.281763\n",
      "Minibatch loss at step 3600: 2.499498\n",
      "Minibatch loss at step 3700: 2.805440\n",
      "Minibatch loss at step 3800: 2.523272\n",
      "Minibatch loss at step 3900: 2.252828\n",
      "Minibatch loss at step 4000: 3.336914\n",
      "Minibatch loss at step 4100: 3.529598\n",
      "Minibatch loss at step 4200: 1.849236\n",
      "Minibatch loss at step 4300: 1.776566\n",
      "Minibatch loss at step 4400: 1.006235\n",
      "Minibatch loss at step 4500: 4.424067\n",
      "Minibatch loss at step 4600: 1.442372\n",
      "Minibatch loss at step 4700: 1.759334\n",
      "Minibatch loss at step 4800: 1.978947\n",
      "Minibatch loss at step 4900: 1.013080\n",
      "Minibatch loss at step 5000: 3.551954\n",
      "Minibatch loss at step 5100: 2.012565\n",
      "Minibatch loss at step 5200: 2.108474\n",
      "Minibatch loss at step 5300: 5.354352\n",
      "Minibatch loss at step 5400: 1.795453\n",
      "Minibatch loss at step 5500: 1.874335\n",
      "Minibatch loss at step 5600: 1.079604\n",
      "Minibatch loss at step 5700: 1.518193\n",
      "Minibatch loss at step 5800: 1.122317\n",
      "Minibatch loss at step 5900: 2.850909\n",
      "Minibatch loss at step 6000: 1.430222\n",
      "Minibatch loss at step 6100: 1.861188\n",
      "Minibatch loss at step 6200: 1.016305\n",
      "Minibatch loss at step 6300: 2.022735\n",
      "Minibatch loss at step 6400: 1.072056\n",
      "Minibatch loss at step 6500: 1.910763\n",
      "Minibatch loss at step 6600: 0.879029\n",
      "Minibatch loss at step 6700: 0.756726\n",
      "Minibatch loss at step 6800: 12.065266\n",
      "Minibatch loss at step 6900: 1.410707\n",
      "Minibatch loss at step 7000: 3.251422\n",
      "Minibatch loss at step 7100: 1.039092\n",
      "Minibatch loss at step 7200: 2.498635\n",
      "Minibatch loss at step 7300: 1.203728\n",
      "Minibatch loss at step 7400: 1.451530\n",
      "Minibatch loss at step 7500: 1.063941\n",
      "Minibatch loss at step 7600: 0.893496\n",
      "Minibatch loss at step 7700: 0.889989\n",
      "Minibatch loss at step 7800: 2.124074\n",
      "Minibatch loss at step 7900: 0.794723\n",
      "Minibatch loss at step 8000: 3.935196\n",
      "Minibatch loss at step 8100: 0.364151\n",
      "Minibatch loss at step 8200: 0.753234\n",
      "Minibatch loss at step 8300: 0.656651\n",
      "Minibatch loss at step 8400: 1.319725\n",
      "Minibatch loss at step 8500: 0.764236\n",
      "Minibatch loss at step 8600: 1.283152\n",
      "Minibatch loss at step 8700: 1.622744\n",
      "Minibatch loss at step 8800: 1.351705\n",
      "Minibatch loss at step 8900: 0.982598\n",
      "Minibatch loss at step 9000: 2.957081\n",
      "Minibatch loss at step 9100: 1.459604\n",
      "Minibatch loss at step 9200: 1.044530\n",
      "Minibatch loss at step 9300: 2.270825\n",
      "Minibatch loss at step 9400: 0.720741\n",
      "Minibatch loss at step 9500: 1.267664\n",
      "Minibatch loss at step 9600: 0.983369\n",
      "Minibatch loss at step 9700: 0.836543\n",
      "Minibatch loss at step 9800: 0.470976\n",
      "Minibatch loss at step 9900: 2.365846\n",
      "Minibatch loss at step 10000: 1.635082\n",
      "Minibatch loss at step 10100: 0.716806\n",
      "Minibatch loss at step 10200: 1.004128\n",
      "Minibatch loss at step 10300: 0.815724\n",
      "Minibatch loss at step 10400: 0.418800\n",
      "Minibatch loss at step 10500: 0.821494\n",
      "Minibatch loss at step 10600: 1.315052\n",
      "Minibatch loss at step 10700: 1.696714\n",
      "Minibatch loss at step 10800: 0.445419\n",
      "Minibatch loss at step 10900: 4.225011\n",
      "Minibatch loss at step 11000: 1.528905\n",
      "Minibatch loss at step 11100: 0.467783\n",
      "Minibatch loss at step 11200: 0.796314\n",
      "Minibatch loss at step 11300: 0.963287\n",
      "Minibatch loss at step 11400: 0.897549\n",
      "Minibatch loss at step 11500: 2.050446\n",
      "Minibatch loss at step 11600: 0.410985\n",
      "Minibatch loss at step 11700: 0.838445\n",
      "Minibatch loss at step 11800: 1.270450\n",
      "Minibatch loss at step 11900: 1.602324\n",
      "Minibatch loss at step 12000: 0.739151\n",
      "Minibatch loss at step 12100: 1.725303\n",
      "Minibatch loss at step 12200: 0.477759\n",
      "Minibatch loss at step 12300: 0.430718\n",
      "Minibatch loss at step 12400: 0.942060\n",
      "Minibatch loss at step 12500: 0.525136\n",
      "Minibatch loss at step 12600: 0.957376\n",
      "Minibatch loss at step 12700: 1.565584\n",
      "Minibatch loss at step 12800: 0.270184\n",
      "Minibatch loss at step 12900: 1.207797\n",
      "Minibatch loss at step 13000: 1.392238\n",
      "Minibatch loss at step 13100: 1.824334\n",
      "Minibatch loss at step 13200: 0.887912\n",
      "Minibatch loss at step 13300: 0.784245\n",
      "Minibatch loss at step 13400: 0.346112\n",
      "Minibatch loss at step 13500: 0.499562\n",
      "Minibatch loss at step 13600: 0.681927\n",
      "Minibatch loss at step 13700: 0.605343\n",
      "Minibatch loss at step 13800: 0.870073\n",
      "Minibatch loss at step 13900: 0.843869\n",
      "Minibatch loss at step 14000: 0.777867\n",
      "Minibatch loss at step 14100: 0.966982\n",
      "Minibatch loss at step 14200: 0.796190\n",
      "Minibatch loss at step 14300: 0.541319\n",
      "Minibatch loss at step 14400: 1.049681\n",
      "Minibatch loss at step 14500: 1.371041\n",
      "Minibatch loss at step 14600: 0.453637\n",
      "Minibatch loss at step 14700: 0.756912\n",
      "Minibatch loss at step 14800: 0.244506\n",
      "Minibatch loss at step 14900: 0.577720\n",
      "Minibatch loss at step 15000: 0.347514\n",
      "Minibatch loss at step 15100: 1.168377\n",
      "Minibatch loss at step 15200: 1.147576\n",
      "Minibatch loss at step 15300: 0.235603\n",
      "Minibatch loss at step 15400: 0.697287\n",
      "Minibatch loss at step 15500: 0.182077\n",
      "Minibatch loss at step 15600: 0.291727\n",
      "Minibatch loss at step 15700: 0.530012\n",
      "Minibatch loss at step 15800: 0.649417\n",
      "Minibatch loss at step 15900: 0.349189\n",
      "Minibatch loss at step 16000: 0.623704\n",
      "Minibatch loss at step 16100: 0.225557\n",
      "Minibatch loss at step 16200: 0.644796\n",
      "Minibatch loss at step 16300: 0.771679\n",
      "Minibatch loss at step 16400: 0.233538\n",
      "Minibatch loss at step 16500: 0.364133\n",
      "Minibatch loss at step 16600: 0.653934\n",
      "Minibatch loss at step 16700: 0.375447\n",
      "Minibatch loss at step 16800: 0.628156\n",
      "Minibatch loss at step 16900: 0.248846\n",
      "Minibatch loss at step 17000: 0.344036\n",
      "Minibatch loss at step 17100: 0.985513\n",
      "Minibatch loss at step 17200: 0.275376\n",
      "Minibatch loss at step 17300: 0.494754\n",
      "Minibatch loss at step 17400: 0.510059\n",
      "Minibatch loss at step 17500: 0.117899\n",
      "Minibatch loss at step 17600: 0.384146\n",
      "Minibatch loss at step 17700: 0.162731\n",
      "Minibatch loss at step 17800: 0.330041\n",
      "Minibatch loss at step 17900: 0.511874\n",
      "Minibatch loss at step 18000: 0.290963\n",
      "Minibatch loss at step 18100: 0.805215\n",
      "Minibatch loss at step 18200: 0.990127\n",
      "Minibatch loss at step 18300: 0.205956\n",
      "Minibatch loss at step 18400: 0.670277\n",
      "Minibatch loss at step 18500: 0.259705\n",
      "Minibatch loss at step 18600: 0.496681\n",
      "Minibatch loss at step 18700: 0.473148\n",
      "Minibatch loss at step 18800: 0.412306\n",
      "Minibatch loss at step 18900: 0.240793\n",
      "Minibatch loss at step 19000: 0.263045\n",
      "Minibatch loss at step 19100: 0.317606\n",
      "Minibatch loss at step 19200: 0.561768\n",
      "Minibatch loss at step 19300: 1.779343\n",
      "Minibatch loss at step 19400: 0.555228\n",
      "Minibatch loss at step 19500: 0.301800\n",
      "Minibatch loss at step 19600: 0.470481\n",
      "Minibatch loss at step 19700: 0.390448\n",
      "Minibatch loss at step 19800: 0.345220\n",
      "Minibatch loss at step 19900: 0.110892\n",
      "Minibatch loss at step 20000: 0.323562\n",
      "Minibatch loss at step 20100: 0.487733\n",
      "Minibatch loss at step 20200: 0.590531\n",
      "Minibatch loss at step 20300: 0.547975\n",
      "Minibatch loss at step 20400: 0.300912\n",
      "Minibatch loss at step 20500: 0.433102\n",
      "Minibatch loss at step 20600: 0.388257\n",
      "Minibatch loss at step 20700: 0.225931\n",
      "Minibatch loss at step 20800: 0.773299\n",
      "Minibatch loss at step 20900: 0.681158\n",
      "Minibatch loss at step 21000: 0.130802\n",
      "Minibatch loss at step 21100: 0.235138\n",
      "Minibatch loss at step 21200: 0.244547\n",
      "Minibatch loss at step 21300: 0.844028\n",
      "Minibatch loss at step 21400: 0.168453\n",
      "Minibatch loss at step 21500: 0.778883\n",
      "Minibatch loss at step 21600: 0.320575\n",
      "Minibatch loss at step 21700: 0.229644\n",
      "Minibatch loss at step 21800: 1.138306\n",
      "Minibatch loss at step 21900: 0.206836\n",
      "Minibatch loss at step 22000: 0.218232\n",
      "Minibatch loss at step 22100: 1.357517\n",
      "Minibatch loss at step 22200: 0.149938\n",
      "Minibatch loss at step 22300: 0.294386\n",
      "Minibatch loss at step 22400: 0.074506\n",
      "Minibatch loss at step 22500: 0.283791\n",
      "Minibatch loss at step 22600: 0.194990\n",
      "Minibatch loss at step 22700: 0.162283\n",
      "Minibatch loss at step 22800: 1.693314\n",
      "Minibatch loss at step 22900: 0.278517\n",
      "Minibatch loss at step 23000: 0.273308\n",
      "Minibatch loss at step 23100: 0.199686\n",
      "Minibatch loss at step 23200: 0.235381\n",
      "Minibatch loss at step 23300: 0.283484\n",
      "Minibatch loss at step 23400: 1.445218\n",
      "Minibatch loss at step 23500: 0.066904\n",
      "Minibatch loss at step 23600: 1.034102\n",
      "Minibatch loss at step 23700: 0.334237\n",
      "Minibatch loss at step 23800: 0.130033\n",
      "Minibatch loss at step 23900: 0.189780\n",
      "Minibatch loss at step 24000: 0.267530\n",
      "Minibatch loss at step 24100: 0.273046\n",
      "Minibatch loss at step 24200: 0.087742\n",
      "Minibatch loss at step 24300: 0.407221\n",
      "Minibatch loss at step 24400: 0.106932\n",
      "Minibatch loss at step 24500: 0.234990\n",
      "Minibatch loss at step 24600: 0.254324\n",
      "Minibatch loss at step 24700: 0.241227\n",
      "Minibatch loss at step 24800: 0.274170\n",
      "Minibatch loss at step 24900: 0.171487\n",
      "Minibatch loss at step 25000: 0.104733\n",
      "Minibatch loss at step 25100: 0.166963\n",
      "Minibatch loss at step 25200: 0.144948\n",
      "Minibatch loss at step 25300: 0.308323\n",
      "Minibatch loss at step 25400: 0.372121\n",
      "Minibatch loss at step 25500: 1.413770\n",
      "Minibatch loss at step 25600: 0.158214\n",
      "Minibatch loss at step 25700: 0.060248\n",
      "Minibatch loss at step 25800: 0.019272\n",
      "Minibatch loss at step 25900: 0.145595\n",
      "Minibatch loss at step 26000: 0.136563\n",
      "Minibatch loss at step 26100: 0.382577\n",
      "Minibatch loss at step 26200: 0.305326\n",
      "Minibatch loss at step 26300: 0.122268\n",
      "Minibatch loss at step 26400: 0.134030\n",
      "Minibatch loss at step 26500: 0.652167\n",
      "Minibatch loss at step 26600: 0.898645\n",
      "Minibatch loss at step 26700: 0.174304\n",
      "Minibatch loss at step 26800: 0.102663\n",
      "Minibatch loss at step 26900: 0.222599\n",
      "Minibatch loss at step 27000: 0.196838\n",
      "Minibatch loss at step 27100: 0.169060\n",
      "Minibatch loss at step 27200: 0.158052\n",
      "Minibatch loss at step 27300: 0.285065\n",
      "Minibatch loss at step 27400: 0.163020\n",
      "Minibatch loss at step 27500: 0.262155\n",
      "Minibatch loss at step 27600: 0.565628\n",
      "Minibatch loss at step 27700: 0.127586\n",
      "Minibatch loss at step 27800: 0.116779\n",
      "Minibatch loss at step 27900: 0.205948\n",
      "Minibatch loss at step 28000: 0.101185\n",
      "Minibatch loss at step 28100: 0.453152\n",
      "Minibatch loss at step 28200: 0.175294\n",
      "Minibatch loss at step 28300: 0.259385\n",
      "Minibatch loss at step 28400: 0.106584\n",
      "Minibatch loss at step 28500: 0.273667\n",
      "Minibatch loss at step 28600: 0.182612\n",
      "Minibatch loss at step 28700: 0.062098\n",
      "Minibatch loss at step 28800: 0.043988\n",
      "Minibatch loss at step 28900: 0.059083\n",
      "Minibatch loss at step 29000: 0.279337\n",
      "Minibatch loss at step 29100: 0.123068\n",
      "Minibatch loss at step 29200: 0.098137\n",
      "Minibatch loss at step 29300: 0.621024\n",
      "Minibatch loss at step 29400: 0.270106\n",
      "Minibatch loss at step 29500: 1.001060\n",
      "Minibatch loss at step 29600: 0.046687\n",
      "Minibatch loss at step 29700: 0.040088\n",
      "Minibatch loss at step 29800: 0.261322\n",
      "Minibatch loss at step 29900: 0.165829\n",
      "Minibatch loss at step 30000: 0.058415\n",
      "Test accuracy: 92.7%\n"
     ]
    }
   ],
   "source": [
    "num_steps = 30001\n",
    "\n",
    "def accuracy(predictions, labels):\n",
    "  return (100.0 * np.sum(np.argmax(predictions, 1) == np.argmax(labels, 1))\n",
    "          / predictions.shape[0])\n",
    "\n",
    "with tf.Session(graph=graph) as session:\n",
    "  tf.initialize_all_variables().run()\n",
    "  lossVec = []\n",
    "  trainAcc = []\n",
    "  validAcc = []\n",
    "  print(\"Initialized\")\n",
    "  for step in range(num_steps):\n",
    "    # Pick an offset within the training data, which has been randomized.\n",
    "    # Note: we could use better randomization across epochs.\n",
    "    offset = (step * batch_size) % (train_labels.shape[0] - batch_size)\n",
    "    # Generate a minibatch.\n",
    "    batch_data = train_dataset[offset:(offset + batch_size), :]\n",
    "    batch_labels = train_labels[offset:(offset + batch_size), :]\n",
    "    # Prepare a dictionary telling the session where to feed the minibatch.\n",
    "    # The key of the dictionary is the placeholder node of the graph to be fed,\n",
    "    # and the value is the numpy array to feed to it.\n",
    "    feed_dict = {tf_train_dataset : batch_data, tf_train_labels : batch_labels}\n",
    "    _, l, predictions = session.run([optimizer, loss, train_prediction], feed_dict=feed_dict)\n",
    "    lossVec.append(l)\n",
    "    if (step % 100 == 0):\n",
    "      print(\"Minibatch loss at step %d: %f\" % (step, l))\n",
    "      #print(\"Minibatch accuracy: %.1f%%\" % accuracy(predictions, batch_labels))\n",
    "      #print(\"Validation accuracy: %.1f%%\" % accuracy(valid_prediction.eval(), valid_labels))\n",
    "      \n",
    "      trainAcc.append(accuracy(predictions, batch_labels))\n",
    "      validAcc.append(accuracy(valid_prediction.eval(), valid_labels))\n",
    "  print(\"Test accuracy: %.1f%%\" % accuracy(test_prediction.eval(), test_labels))"
   ]
  },
  {
   "cell_type": "markdown",
   "metadata": {},
   "source": [
    "Save train and valid accuracy "
   ]
  },
  {
   "cell_type": "code",
   "execution_count": 9,
   "metadata": {
    "collapsed": true
   },
   "outputs": [],
   "source": [
    "fName = 'Experiment_1.pickle'\n",
    "\n",
    "try:\n",
    "  f = open(fName, 'wb')\n",
    "  save = {\n",
    "    'lossVec': lossVec,\n",
    "    'trainAcc': trainAcc,\n",
    "    'validAcc': validAcc,\n",
    "    }\n",
    "  pickle.dump(save, f, pickle.HIGHEST_PROTOCOL)\n",
    "  f.close()\n",
    "except Exception as e:\n",
    "  print('Unable to save data to', pickle_file, ':', e)\n",
    "  raise"
   ]
  },
  {
   "cell_type": "code",
   "execution_count": 10,
   "metadata": {
    "collapsed": false
   },
   "outputs": [],
   "source": [
    "pickle_file = 'Experiment_1.pickle'\n",
    "\n",
    "with open(pickle_file, 'rb') as f:\n",
    "  save = pickle.load(f)\n",
    "  lossVec = save['lossVec']\n",
    "  trainAcc = save['trainAcc']\n",
    "  validAcc = save['validAcc']\n",
    "  del save  # hint to help gc free up memory"
   ]
  },
  {
   "cell_type": "code",
   "execution_count": 13,
   "metadata": {
    "collapsed": false
   },
   "outputs": [
    {
     "data": {
      "image/png": "[encoded data removed]",
      "text/plain": [
       "<matplotlib.figure.Figure at 0x1453f5ad0>"
      ]
     },
     "metadata": {},
     "output_type": "display_data"
    },
    {
     "data": {
      "image/png": "[encoded data removed]",
      "text/plain": [
       "<matplotlib.figure.Figure at 0x152a4f710>"
      ]
     },
     "metadata": {},
     "output_type": "display_data"
    }
   ],
   "source": [
    "import matplotlib \n",
    "%matplotlib inline\n",
    "import matplotlib.pyplot as plt\n",
    "\n",
    "plt.clf()\n",
    "plt.plot(lossVec)\n",
    "plt.xlabel('Steps')\n",
    "plt.ylabel('Loss')\n",
    "axes = plt.gca()\n",
    "axes.set_ylim([0,200])\n",
    "plt.show()\n",
    "\n",
    "plt.clf()\n",
    "plt.plot(xrange(0,30001,100),trainAcc, label= \"Minibatch Accuracy\")\n",
    "plt.plot(xrange(0,30001,100),validAcc, label= \"Valid Accuracy\")\n",
    "axes = plt.gca()\n",
    "axes.set_ylim([70,100])\n",
    "plt.xlabel('Steps')\n",
    "plt.ylabel('Accuracy')\n",
    "plt.legend(loc=4)\n",
    "plt.show()\n",
    "\n"
   ]
  },
  {
   "cell_type": "markdown",
   "metadata": {},
   "source": [
    "# Results"
   ]
  },
  {
   "cell_type": "markdown",
   "metadata": {},
   "source": [
    "Test accuracy with a 1-hidden layer neural network with rectified linear units (nn.relu()) and 1024 hidden nodes is: 89.2%"
   ]
  }
 ],
 "metadata": {
  "colab": {
   "default_view": {},
   "name": "2_fullyconnected.ipynb",
   "provenance": [],
   "version": "0.3.2",
   "views": {}
  },
  "kernelspec": {
   "display_name": "Python 2",
   "language": "python",
   "name": "python2"
  },
  "language_info": {
   "codemirror_mode": {
    "name": "ipython",
    "version": 2
   },
   "file_extension": ".py",
   "mimetype": "text/x-python",
   "name": "python",
   "nbconvert_exporter": "python",
   "pygments_lexer": "ipython2",
   "version": "2.7.11"
  }
 },
 "nbformat": 4,
 "nbformat_minor": 0
}
