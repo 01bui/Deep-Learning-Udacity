{
 "cells": [
  {
   "cell_type": "markdown",
   "metadata": {
    "colab_type": "text",
    "id": "kR-4eNdK6lYS"
   },
   "source": [
    "Deep Learning\n",
    "=============\n",
    "\n",
    "Assignment 3\n",
    "------------\n",
    "\n",
    "Previously in `2_fullyconnected.ipynb`, you trained a logistic regression and a neural network model.\n",
    "\n",
    "The goal of this assignment is to explore regularization techniques."
   ]
  },
  {
   "cell_type": "code",
   "execution_count": 1,
   "metadata": {
    "cellView": "both",
    "colab": {
     "autoexec": {
      "startup": false,
      "wait_interval": 0
     }
    },
    "colab_type": "code",
    "collapsed": true,
    "id": "JLpLa8Jt7Vu4"
   },
   "outputs": [],
   "source": [
    "# These are all the modules we'll be using later. Make sure you can import them\n",
    "# before proceeding further.\n",
    "from __future__ import print_function\n",
    "import numpy as np\n",
    "import tensorflow as tf\n",
    "from six.moves import cPickle as pickle"
   ]
  },
  {
   "cell_type": "markdown",
   "metadata": {
    "colab_type": "text",
    "id": "1HrCK6e17WzV"
   },
   "source": [
    "First reload the data we generated in _notmist.ipynb_."
   ]
  },
  {
   "cell_type": "code",
   "execution_count": 2,
   "metadata": {
    "cellView": "both",
    "colab": {
     "autoexec": {
      "startup": false,
      "wait_interval": 0
     },
     "output_extras": [
      {
       "item_id": 1
      }
     ]
    },
    "colab_type": "code",
    "collapsed": false,
    "executionInfo": {
     "elapsed": 11777,
     "status": "ok",
     "timestamp": 1449849322348,
     "user": {
      "color": "",
      "displayName": "",
      "isAnonymous": false,
      "isMe": true,
      "permissionId": "",
      "photoUrl": "",
      "sessionId": "0",
      "userId": ""
     },
     "user_tz": 480
    },
    "id": "y3-cj1bpmuxc",
    "outputId": "e03576f1-ebbe-4838-c388-f1777bcc9873"
   },
   "outputs": [
    {
     "name": "stdout",
     "output_type": "stream",
     "text": [
      "Training set (200000, 28, 28) (200000,)\n",
      "Validation set (10000, 28, 28) (10000,)\n",
      "Test set (10000, 28, 28) (10000,)\n"
     ]
    }
   ],
   "source": [
    "pickle_file = 'notMNIST.pickle'\n",
    "\n",
    "with open(pickle_file, 'rb') as f:\n",
    "  save = pickle.load(f)\n",
    "  train_dataset = save['train_dataset']\n",
    "  train_labels = save['train_labels']\n",
    "  valid_dataset = save['valid_dataset']\n",
    "  valid_labels = save['valid_labels']\n",
    "  test_dataset = save['test_dataset']\n",
    "  test_labels = save['test_labels']\n",
    "  del save  # hint to help gc free up memory\n",
    "  print('Training set', train_dataset.shape, train_labels.shape)\n",
    "  print('Validation set', valid_dataset.shape, valid_labels.shape)\n",
    "  print('Test set', test_dataset.shape, test_labels.shape)"
   ]
  },
  {
   "cell_type": "markdown",
   "metadata": {
    "colab_type": "text",
    "id": "L7aHrm6nGDMB"
   },
   "source": [
    "Reformat into a shape that's more adapted to the models we're going to train:\n",
    "- data as a flat matrix,\n",
    "- labels as float 1-hot encodings."
   ]
  },
  {
   "cell_type": "code",
   "execution_count": 3,
   "metadata": {
    "cellView": "both",
    "colab": {
     "autoexec": {
      "startup": false,
      "wait_interval": 0
     },
     "output_extras": [
      {
       "item_id": 1
      }
     ]
    },
    "colab_type": "code",
    "collapsed": false,
    "executionInfo": {
     "elapsed": 11728,
     "status": "ok",
     "timestamp": 1449849322356,
     "user": {
      "color": "",
      "displayName": "",
      "isAnonymous": false,
      "isMe": true,
      "permissionId": "",
      "photoUrl": "",
      "sessionId": "0",
      "userId": ""
     },
     "user_tz": 480
    },
    "id": "IRSyYiIIGIzS",
    "outputId": "3f8996ee-3574-4f44-c953-5c8a04636582"
   },
   "outputs": [
    {
     "name": "stdout",
     "output_type": "stream",
     "text": [
      "Training set (200000, 784) (200000, 10)\n",
      "Validation set (10000, 784) (10000, 10)\n",
      "Test set (10000, 784) (10000, 10)\n"
     ]
    }
   ],
   "source": [
    "image_size = 28\n",
    "num_labels = 10\n",
    "\n",
    "def reformat(dataset, labels):\n",
    "  dataset = dataset.reshape((-1, image_size * image_size)).astype(np.float32)\n",
    "  # Map 2 to [0.0, 1.0, 0.0 ...], 3 to [0.0, 0.0, 1.0 ...]\n",
    "  labels = (np.arange(num_labels) == labels[:,None]).astype(np.float32)\n",
    "  return dataset, labels\n",
    "train_dataset, train_labels = reformat(train_dataset, train_labels)\n",
    "valid_dataset, valid_labels = reformat(valid_dataset, valid_labels)\n",
    "test_dataset, test_labels = reformat(test_dataset, test_labels)\n",
    "print('Training set', train_dataset.shape, train_labels.shape)\n",
    "print('Validation set', valid_dataset.shape, valid_labels.shape)\n",
    "print('Test set', test_dataset.shape, test_labels.shape)"
   ]
  },
  {
   "cell_type": "code",
   "execution_count": 4,
   "metadata": {
    "cellView": "both",
    "colab": {
     "autoexec": {
      "startup": false,
      "wait_interval": 0
     }
    },
    "colab_type": "code",
    "collapsed": true,
    "id": "RajPLaL_ZW6w"
   },
   "outputs": [],
   "source": [
    "def accuracy(predictions, labels):\n",
    "  return (100.0 * np.sum(np.argmax(predictions, 1) == np.argmax(labels, 1))\n",
    "          / predictions.shape[0])"
   ]
  },
  {
   "cell_type": "markdown",
   "metadata": {
    "colab_type": "text",
    "id": "sgLbUAQ1CW-1"
   },
   "source": [
    "---\n",
    "Problem 1\n",
    "---------\n",
    "\n",
    "Introduce and tune L2 regularization for both logistic and neural network models. Remember that L2 amounts to adding a penalty on the norm of the weights to the loss. In TensorFlow, you can compute the L2 loss for a tensor `t` using `nn.l2_loss(t)`. The right amount of regularization should improve your validation / test accuracy.\n",
    "\n",
    "---"
   ]
  },
  {
   "cell_type": "markdown",
   "metadata": {},
   "source": [
    "Tune L2 regularization for logistic model"
   ]
  },
  {
   "cell_type": "code",
   "execution_count": 5,
   "metadata": {
    "collapsed": false
   },
   "outputs": [],
   "source": [
    "batch_size = 128\n",
    "\n",
    "graph = tf.Graph()\n",
    "with graph.as_default():\n",
    "\n",
    "  # Input data. For the training data, we use a placeholder that will be fed\n",
    "  # at run time with a training minibatch.\n",
    "  tf_train_dataset = tf.placeholder(tf.float32,shape=(batch_size, image_size * image_size))\n",
    "  tf_train_labels = tf.placeholder(tf.float32, shape=(batch_size, num_labels))\n",
    "  tf_valid_dataset = tf.constant(valid_dataset)\n",
    "  tf_test_dataset = tf.constant(test_dataset)\n",
    "  \n",
    "  # Variables.\n",
    "  weights = tf.Variable(tf.truncated_normal([image_size * image_size, num_labels]))\n",
    "  biases = tf.Variable(tf.zeros([num_labels]))\n",
    "  \n",
    "  # Training computation.\n",
    "  logits = tf.matmul(tf_train_dataset, weights) + biases\n",
    "  loss = tf.reduce_mean(tf.nn.softmax_cross_entropy_with_logits(logits, tf_train_labels))\n",
    "    \n",
    "  # L2 regularization for the fully connected parameters.\n",
    "  regularizers = tf.nn.l2_loss(weights) + tf.nn.l2_loss(biases) \n",
    "  # Add the regularization term to the loss.\n",
    "  loss += 5e-4 * regularizers\n",
    "  \n",
    "  # Optimizer.\n",
    "  optimizer = tf.train.GradientDescentOptimizer(0.5).minimize(loss)\n",
    "  \n",
    "  # Predictions for the training, validation, and test data.\n",
    "  train_prediction = tf.nn.softmax(logits)\n",
    "  valid_prediction = tf.nn.softmax(tf.matmul(tf_valid_dataset, weights) + biases)\n",
    "  test_prediction = tf.nn.softmax(tf.matmul(tf_test_dataset, weights) + biases)"
   ]
  },
  {
   "cell_type": "code",
   "execution_count": 6,
   "metadata": {
    "collapsed": false
   },
   "outputs": [
    {
     "name": "stdout",
     "output_type": "stream",
     "text": [
      "Initialized\n",
      "Minibatch loss at step 0: 20.073441\n",
      "Minibatch accuracy: 11.7%\n",
      "Validation accuracy: 12.5%\n",
      "Minibatch loss at step 500: 2.079197\n",
      "Minibatch accuracy: 77.3%\n",
      "Validation accuracy: 75.8%\n",
      "Minibatch loss at step 1000: 1.744632\n",
      "Minibatch accuracy: 80.5%\n",
      "Validation accuracy: 77.4%\n",
      "Minibatch loss at step 1500: 1.098860\n",
      "Minibatch accuracy: 84.4%\n",
      "Validation accuracy: 78.4%\n",
      "Minibatch loss at step 2000: 1.023061\n",
      "Minibatch accuracy: 80.5%\n",
      "Validation accuracy: 79.2%\n",
      "Minibatch loss at step 2500: 1.092160\n",
      "Minibatch accuracy: 76.6%\n",
      "Validation accuracy: 80.4%\n",
      "Minibatch loss at step 3000: 0.897657\n",
      "Minibatch accuracy: 82.0%\n",
      "Validation accuracy: 80.9%\n",
      "Test accuracy: 88.4%\n"
     ]
    }
   ],
   "source": [
    "num_steps = 3001\n",
    "\n",
    "with tf.Session(graph=graph) as session:\n",
    "  tf.initialize_all_variables().run()\n",
    "  print(\"Initialized\")\n",
    "  for step in range(num_steps):\n",
    "    # Pick an offset within the training data, which has been randomized.\n",
    "    # Note: we could use better randomization across epochs.\n",
    "    offset = (step * batch_size) % (train_labels.shape[0] - batch_size)\n",
    "    # Generate a minibatch.\n",
    "    batch_data = train_dataset[offset:(offset + batch_size), :]\n",
    "    batch_labels = train_labels[offset:(offset + batch_size), :]\n",
    "    # Prepare a dictionary telling the session where to feed the minibatch.\n",
    "    # The key of the dictionary is the placeholder node of the graph to be fed,\n",
    "    # and the value is the numpy array to feed to it.\n",
    "    feed_dict = {tf_train_dataset : batch_data, tf_train_labels : batch_labels}\n",
    "    _, l, predictions = session.run(\n",
    "      [optimizer, loss, train_prediction], feed_dict=feed_dict)\n",
    "    if (step % 500 == 0):\n",
    "      print(\"Minibatch loss at step %d: %f\" % (step, l))\n",
    "      print(\"Minibatch accuracy: %.1f%%\" % accuracy(predictions, batch_labels))\n",
    "      print(\"Validation accuracy: %.1f%%\" % accuracy(\n",
    "        valid_prediction.eval(), valid_labels))\n",
    "  print(\"Test accuracy: %.1f%%\" % accuracy(test_prediction.eval(), test_labels))"
   ]
  },
  {
   "cell_type": "markdown",
   "metadata": {},
   "source": [
    "Initialized\n",
    "Minibatch loss at step 0: 16.625013\n",
    "Minibatch accuracy: 15.6%\n",
    "Validation accuracy: 18.1%\n",
    "Minibatch loss at step 500: 1.974661\n",
    "Minibatch accuracy: 82.0%\n",
    "Validation accuracy: 76.0%\n",
    "Minibatch loss at step 1000: 1.791342\n",
    "Minibatch accuracy: 79.7%\n",
    "Validation accuracy: 77.5%\n",
    "Minibatch loss at step 1500: 1.106296\n",
    "Minibatch accuracy: 83.6%\n",
    "Validation accuracy: 78.5%\n",
    "Minibatch loss at step 2000: 0.973265\n",
    "Minibatch accuracy: 86.7%\n",
    "Validation accuracy: 79.3%\n",
    "Minibatch loss at step 2500: 0.962462\n",
    "Minibatch accuracy: 78.1%\n",
    "Validation accuracy: 80.5%\n",
    "Minibatch loss at step 3000: 0.943414\n",
    "Minibatch accuracy: 79.7%\n",
    "Validation accuracy: 81.0%\n",
    "Test accuracy: 88.7%"
   ]
  },
  {
   "cell_type": "markdown",
   "metadata": {},
   "source": [
    "Tune L2 regularization for neural network model"
   ]
  },
  {
   "cell_type": "code",
   "execution_count": 7,
   "metadata": {
    "collapsed": true
   },
   "outputs": [],
   "source": [
    "batch_size = 128\n",
    "hidden_layer_size = 1024\n",
    "\n",
    "graph = tf.Graph()\n",
    "with graph.as_default():\n",
    "\n",
    "  # Input data. For the training data, we use a placeholder that will be fed\n",
    "  # at run time with a training minibatch.\n",
    "  tf_train_dataset = tf.placeholder(tf.float32,shape=(batch_size, image_size * image_size))\n",
    "  tf_train_labels = tf.placeholder(tf.float32, shape=(batch_size, num_labels))\n",
    "  tf_valid_dataset = tf.constant(valid_dataset)\n",
    "  tf_test_dataset = tf.constant(test_dataset)\n",
    "  \n",
    "  # Variables.\n",
    "  weightsHidden = tf.Variable(tf.truncated_normal([image_size * image_size, hidden_layer_size]))\n",
    "  biasesHidden = tf.Variable(tf.zeros([hidden_layer_size]))\n",
    "  \n",
    "  logitsHidden = tf.matmul(tf_train_dataset, weightsHidden) + biasesHidden\n",
    "  hiddenLayer = tf.nn.relu(logitsHidden)\n",
    "\n",
    "  weights = tf.Variable(tf.truncated_normal([hidden_layer_size, num_labels]))\n",
    "  biases = tf.Variable(tf.zeros([num_labels]))\n",
    "\n",
    "  # Training computation.\n",
    "  logits = tf.matmul(hiddenLayer, weights) + biases\n",
    "  loss = tf.reduce_mean(tf.nn.softmax_cross_entropy_with_logits(logits, tf_train_labels))\n",
    "    \n",
    "  # L2 regularization for the fully connected parameters.\n",
    "  regularizers = (tf.nn.l2_loss(weightsHidden) + tf.nn.l2_loss(biasesHidden) +\n",
    "                  tf.nn.l2_loss(weights) + tf.nn.l2_loss(biases))\n",
    "  # Add the regularization term to the loss.\n",
    "  loss += 5e-4 * regularizers\n",
    " \n",
    "  # Optimizer.\n",
    "  optimizer = tf.train.GradientDescentOptimizer(0.5).minimize(loss)\n",
    "  \n",
    "  # Predictions for the training, validation, and test data.\n",
    "  train_prediction = tf.nn.softmax(logits)\n",
    "    \n",
    "  valid_hidden = tf.nn.relu(tf.matmul(tf_valid_dataset, weightsHidden) + biasesHidden)\n",
    "  valid_logits = tf.matmul(valid_hidden, weights) + biases\n",
    "  valid_prediction = tf.nn.softmax(valid_logits)\n",
    "    \n",
    "  test_hidden = tf.nn.relu(tf.matmul(tf_test_dataset, weightsHidden) + biasesHidden)\n",
    "  test_logits = tf.matmul(test_hidden, weights) + biases\n",
    "  test_prediction = tf.nn.softmax(test_logits)"
   ]
  },
  {
   "cell_type": "code",
   "execution_count": 8,
   "metadata": {
    "collapsed": false
   },
   "outputs": [
    {
     "name": "stdout",
     "output_type": "stream",
     "text": [
      "Initialized\n",
      "Minibatch loss at step 0: 471.523987\n",
      "Minibatch accuracy: 14.8%\n",
      "Validation accuracy: 21.1%\n",
      "Minibatch loss at step 500: 134.516937\n",
      "Minibatch accuracy: 81.2%\n",
      "Validation accuracy: 79.2%\n",
      "Minibatch loss at step 1000: 97.997849\n",
      "Minibatch accuracy: 78.9%\n",
      "Validation accuracy: 81.8%\n",
      "Minibatch loss at step 1500: 74.139778\n",
      "Minibatch accuracy: 85.2%\n",
      "Validation accuracy: 82.2%\n",
      "Minibatch loss at step 2000: 57.005882\n",
      "Minibatch accuracy: 89.8%\n",
      "Validation accuracy: 82.6%\n",
      "Minibatch loss at step 2500: 44.487976\n",
      "Minibatch accuracy: 85.2%\n",
      "Validation accuracy: 83.9%\n",
      "Minibatch loss at step 3000: 34.578785\n",
      "Minibatch accuracy: 85.2%\n",
      "Validation accuracy: 84.2%\n",
      "Test accuracy: 91.3%\n"
     ]
    }
   ],
   "source": [
    "num_steps = 3001\n",
    "\n",
    "with tf.Session(graph=graph) as session:\n",
    "  tf.initialize_all_variables().run()\n",
    "  print(\"Initialized\")\n",
    "  for step in range(num_steps):\n",
    "    # Pick an offset within the training data, which has been randomized.\n",
    "    # Note: we could use better randomization across epochs.\n",
    "    offset = (step * batch_size) % (train_labels.shape[0] - batch_size)\n",
    "    # Generate a minibatch.\n",
    "    batch_data = train_dataset[offset:(offset + batch_size), :]\n",
    "    batch_labels = train_labels[offset:(offset + batch_size), :]\n",
    "    # Prepare a dictionary telling the session where to feed the minibatch.\n",
    "    # The key of the dictionary is the placeholder node of the graph to be fed,\n",
    "    # and the value is the numpy array to feed to it.\n",
    "    feed_dict = {tf_train_dataset : batch_data, tf_train_labels : batch_labels}\n",
    "    _, l, predictions = session.run([optimizer, loss, train_prediction], feed_dict=feed_dict)\n",
    "    if (step % 500 == 0):\n",
    "      print(\"Minibatch loss at step %d: %f\" % (step, l))\n",
    "      print(\"Minibatch accuracy: %.1f%%\" % accuracy(predictions, batch_labels))\n",
    "      print(\"Validation accuracy: %.1f%%\" % accuracy(valid_prediction.eval(), valid_labels))\n",
    "  print(\"Test accuracy: %.1f%%\" % accuracy(test_prediction.eval(), test_labels))"
   ]
  },
  {
   "cell_type": "markdown",
   "metadata": {},
   "source": [
    "Initialized\n",
    "Minibatch loss at step 0: 520.794128\n",
    "Minibatch accuracy: 12.5%\n",
    "Validation accuracy: 27.2%\n",
    "Minibatch loss at step 500: 138.610382\n",
    "Minibatch accuracy: 80.5%\n",
    "Validation accuracy: 79.5%\n",
    "Minibatch loss at step 1000: 99.893425\n",
    "Minibatch accuracy: 78.1%\n",
    "Validation accuracy: 80.6%\n",
    "Minibatch loss at step 1500: 74.578651\n",
    "Minibatch accuracy: 86.7%\n",
    "Validation accuracy: 80.0%\n",
    "Minibatch loss at step 2000: 57.215748\n",
    "Minibatch accuracy: 89.1%\n",
    "Validation accuracy: 83.1%\n",
    "Minibatch loss at step 2500: 44.275105\n",
    "Minibatch accuracy: 86.7%\n",
    "Validation accuracy: 83.4%\n",
    "Minibatch loss at step 3000: 34.290161\n",
    "Minibatch accuracy: 88.3%\n",
    "Validation accuracy: 84.2%\n",
    "Test accuracy: 91.4%"
   ]
  },
  {
   "cell_type": "markdown",
   "metadata": {
    "colab_type": "text",
    "id": "na8xX2yHZzNF"
   },
   "source": [
    "---\n",
    "Problem 2\n",
    "---------\n",
    "Let's demonstrate an extreme case of overfitting. Restrict your training data to just a few batches. What happens?\n",
    "\n",
    "---"
   ]
  },
  {
   "cell_type": "code",
   "execution_count": 9,
   "metadata": {
    "collapsed": true
   },
   "outputs": [],
   "source": [
    "batch_size = 12\n",
    "\n",
    "graph = tf.Graph()\n",
    "with graph.as_default():\n",
    "\n",
    "  # Input data. For the training data, we use a placeholder that will be fed\n",
    "  # at run time with a training minibatch.\n",
    "  tf_train_dataset = tf.placeholder(tf.float32,shape=(batch_size, image_size * image_size))\n",
    "  tf_train_labels = tf.placeholder(tf.float32, shape=(batch_size, num_labels))\n",
    "  tf_valid_dataset = tf.constant(valid_dataset)\n",
    "  tf_test_dataset = tf.constant(test_dataset)\n",
    "  \n",
    "  # Variables.\n",
    "  weights = tf.Variable(tf.truncated_normal([image_size * image_size, num_labels]))\n",
    "  biases = tf.Variable(tf.zeros([num_labels]))\n",
    "  \n",
    "  # Training computation.\n",
    "  logits = tf.matmul(tf_train_dataset, weights) + biases\n",
    "  loss = tf.reduce_mean(tf.nn.softmax_cross_entropy_with_logits(logits, tf_train_labels))\n",
    "    \n",
    "  # L2 regularization for the fully connected parameters.\n",
    "  regularizers = tf.nn.l2_loss(weights) + tf.nn.l2_loss(biases) \n",
    "  # Add the regularization term to the loss.\n",
    "  loss += 5e-4 * regularizers\n",
    "  \n",
    "  # Optimizer.\n",
    "  optimizer = tf.train.GradientDescentOptimizer(0.5).minimize(loss)\n",
    "  \n",
    "  # Predictions for the training, validation, and test data.\n",
    "  train_prediction = tf.nn.softmax(logits)\n",
    "  valid_prediction = tf.nn.softmax(tf.matmul(tf_valid_dataset, weights) + biases)\n",
    "  test_prediction = tf.nn.softmax(tf.matmul(tf_test_dataset, weights) + biases)"
   ]
  },
  {
   "cell_type": "code",
   "execution_count": 10,
   "metadata": {
    "collapsed": false
   },
   "outputs": [
    {
     "name": "stdout",
     "output_type": "stream",
     "text": [
      "Initialized\n",
      "Minibatch loss at step 0: 19.684132\n",
      "Minibatch accuracy: 16.7%\n",
      "Validation accuracy: 12.9%\n",
      "Minibatch loss at step 500: 1.609565\n",
      "Minibatch accuracy: 83.3%\n",
      "Validation accuracy: 73.5%\n",
      "Minibatch loss at step 1000: 1.243329\n",
      "Minibatch accuracy: 83.3%\n",
      "Validation accuracy: 72.4%\n",
      "Minibatch loss at step 1500: 0.944184\n",
      "Minibatch accuracy: 91.7%\n",
      "Validation accuracy: 75.2%\n",
      "Minibatch loss at step 2000: 4.144327\n",
      "Minibatch accuracy: 66.7%\n",
      "Validation accuracy: 73.1%\n",
      "Minibatch loss at step 2500: 2.368257\n",
      "Minibatch accuracy: 66.7%\n",
      "Validation accuracy: 73.4%\n",
      "Minibatch loss at step 3000: 1.800102\n",
      "Minibatch accuracy: 83.3%\n",
      "Validation accuracy: 75.9%\n",
      "Test accuracy: 82.7%\n"
     ]
    }
   ],
   "source": [
    "num_steps = 3001\n",
    "\n",
    "with tf.Session(graph=graph) as session:\n",
    "  tf.initialize_all_variables().run()\n",
    "  print(\"Initialized\")\n",
    "  for step in range(num_steps):\n",
    "    # Pick an offset within the training data, which has been randomized.\n",
    "    # Note: we could use better randomization across epochs.\n",
    "    offset = (step * batch_size) % (train_labels.shape[0] - batch_size)\n",
    "    # Generate a minibatch.\n",
    "    batch_data = train_dataset[offset:(offset + batch_size), :]\n",
    "    batch_labels = train_labels[offset:(offset + batch_size), :]\n",
    "    # Prepare a dictionary telling the session where to feed the minibatch.\n",
    "    # The key of the dictionary is the placeholder node of the graph to be fed,\n",
    "    # and the value is the numpy array to feed to it.\n",
    "    feed_dict = {tf_train_dataset : batch_data, tf_train_labels : batch_labels}\n",
    "    _, l, predictions = session.run(\n",
    "      [optimizer, loss, train_prediction], feed_dict=feed_dict)\n",
    "    if (step % 500 == 0):\n",
    "      print(\"Minibatch loss at step %d: %f\" % (step, l))\n",
    "      print(\"Minibatch accuracy: %.1f%%\" % accuracy(predictions, batch_labels))\n",
    "      print(\"Validation accuracy: %.1f%%\" % accuracy(\n",
    "        valid_prediction.eval(), valid_labels))\n",
    "  print(\"Test accuracy: %.1f%%\" % accuracy(test_prediction.eval(), test_labels))"
   ]
  },
  {
   "cell_type": "code",
   "execution_count": 11,
   "metadata": {
    "collapsed": true
   },
   "outputs": [],
   "source": [
    "batch_size = 12\n",
    "hidden_layer_size = 1024\n",
    "\n",
    "graph = tf.Graph()\n",
    "with graph.as_default():\n",
    "\n",
    "  # Input data. For the training data, we use a placeholder that will be fed\n",
    "  # at run time with a training minibatch.\n",
    "  tf_train_dataset = tf.placeholder(tf.float32,shape=(batch_size, image_size * image_size))\n",
    "  tf_train_labels = tf.placeholder(tf.float32, shape=(batch_size, num_labels))\n",
    "  tf_valid_dataset = tf.constant(valid_dataset)\n",
    "  tf_test_dataset = tf.constant(test_dataset)\n",
    "  \n",
    "  # Variables.\n",
    "  weightsHidden = tf.Variable(tf.truncated_normal([image_size * image_size, hidden_layer_size]))\n",
    "  biasesHidden = tf.Variable(tf.zeros([hidden_layer_size]))\n",
    "  \n",
    "  logitsHidden = tf.matmul(tf_train_dataset, weightsHidden) + biasesHidden\n",
    "  hiddenLayer = tf.nn.relu(logitsHidden)\n",
    "\n",
    "  weights = tf.Variable(tf.truncated_normal([hidden_layer_size, num_labels]))\n",
    "  biases = tf.Variable(tf.zeros([num_labels]))\n",
    "\n",
    "  # Training computation.\n",
    "  logits = tf.matmul(hiddenLayer, weights) + biases\n",
    "  loss = tf.reduce_mean(tf.nn.softmax_cross_entropy_with_logits(logits, tf_train_labels))\n",
    "    \n",
    "  # L2 regularization for the fully connected parameters.\n",
    "  regularizers = (tf.nn.l2_loss(weightsHidden) + tf.nn.l2_loss(biasesHidden) +\n",
    "                  tf.nn.l2_loss(weights) + tf.nn.l2_loss(biases))\n",
    "  # Add the regularization term to the loss.\n",
    "  loss += 5e-4 * regularizers\n",
    " \n",
    "  # Optimizer.\n",
    "  optimizer = tf.train.GradientDescentOptimizer(0.5).minimize(loss)\n",
    "  \n",
    "  # Predictions for the training, validation, and test data.\n",
    "  train_prediction = tf.nn.softmax(logits)\n",
    "    \n",
    "  valid_hidden = tf.nn.relu(tf.matmul(tf_valid_dataset, weightsHidden) + biasesHidden)\n",
    "  valid_logits = tf.matmul(valid_hidden, weights) + biases\n",
    "  valid_prediction = tf.nn.softmax(valid_logits)\n",
    "    \n",
    "  test_hidden = tf.nn.relu(tf.matmul(tf_test_dataset, weightsHidden) + biasesHidden)\n",
    "  test_logits = tf.matmul(test_hidden, weights) + biases\n",
    "  test_prediction = tf.nn.softmax(test_logits)"
   ]
  },
  {
   "cell_type": "code",
   "execution_count": 12,
   "metadata": {
    "collapsed": false
   },
   "outputs": [
    {
     "name": "stdout",
     "output_type": "stream",
     "text": [
      "Initialized\n",
      "Minibatch loss at step 0: 479.397095\n",
      "Minibatch accuracy: 25.0%\n",
      "Validation accuracy: 17.1%\n",
      "Minibatch loss at step 500: 758.940125\n",
      "Minibatch accuracy: 75.0%\n",
      "Validation accuracy: 60.5%\n",
      "Minibatch loss at step 1000: 488.981354\n",
      "Minibatch accuracy: 50.0%\n",
      "Validation accuracy: 52.9%\n",
      "Minibatch loss at step 1500: 600.512329\n",
      "Minibatch accuracy: 58.3%\n",
      "Validation accuracy: 54.7%\n",
      "Minibatch loss at step 2000: 584.767761\n",
      "Minibatch accuracy: 75.0%\n",
      "Validation accuracy: 53.6%\n",
      "Minibatch loss at step 2500: 429.065979\n",
      "Minibatch accuracy: 16.7%\n",
      "Validation accuracy: 55.5%\n",
      "Minibatch loss at step 3000: 340.685486\n",
      "Minibatch accuracy: 66.7%\n",
      "Validation accuracy: 60.0%\n",
      "Test accuracy: 66.0%\n"
     ]
    }
   ],
   "source": [
    "num_steps = 3001\n",
    "\n",
    "with tf.Session(graph=graph) as session:\n",
    "  tf.initialize_all_variables().run()\n",
    "  print(\"Initialized\")\n",
    "  for step in range(num_steps):\n",
    "    # Pick an offset within the training data, which has been randomized.\n",
    "    # Note: we could use better randomization across epochs.\n",
    "    offset = (step * batch_size) % (train_labels.shape[0] - batch_size)\n",
    "    # Generate a minibatch.\n",
    "    batch_data = train_dataset[offset:(offset + batch_size), :]\n",
    "    batch_labels = train_labels[offset:(offset + batch_size), :]\n",
    "    # Prepare a dictionary telling the session where to feed the minibatch.\n",
    "    # The key of the dictionary is the placeholder node of the graph to be fed,\n",
    "    # and the value is the numpy array to feed to it.\n",
    "    feed_dict = {tf_train_dataset : batch_data, tf_train_labels : batch_labels}\n",
    "    _, l, predictions = session.run([optimizer, loss, train_prediction], feed_dict=feed_dict)\n",
    "    if (step % 500 == 0):\n",
    "      print(\"Minibatch loss at step %d: %f\" % (step, l))\n",
    "      print(\"Minibatch accuracy: %.1f%%\" % accuracy(predictions, batch_labels))\n",
    "      print(\"Validation accuracy: %.1f%%\" % accuracy(valid_prediction.eval(), valid_labels))\n",
    "  print(\"Test accuracy: %.1f%%\" % accuracy(test_prediction.eval(), test_labels))"
   ]
  },
  {
   "cell_type": "markdown",
   "metadata": {
    "colab_type": "text",
    "id": "ww3SCBUdlkRc"
   },
   "source": [
    "---\n",
    "Problem 3\n",
    "---------\n",
    "Introduce Dropout on the hidden layer of the neural network. Remember: Dropout should only be introduced during training, not evaluation, otherwise your evaluation results would be stochastic as well. TensorFlow provides `nn.dropout()` for that, but you have to make sure it's only inserted during training.\n",
    "\n",
    "What happens to our extreme overfitting case?\n",
    "\n",
    "---"
   ]
  },
  {
   "cell_type": "code",
   "execution_count": 22,
   "metadata": {
    "collapsed": false
   },
   "outputs": [],
   "source": [
    "batch_size = 50\n",
    "hidden_layer_size = 1024\n",
    "\n",
    "graph = tf.Graph()\n",
    "with graph.as_default():\n",
    "\n",
    "  # Input data. For the training data, we use a placeholder that will be fed\n",
    "  # at run time with a training minibatch.\n",
    "  tf_train_dataset = tf.placeholder(tf.float32,shape=(batch_size, image_size * image_size))\n",
    "  tf_train_labels = tf.placeholder(tf.float32, shape=(batch_size, num_labels))\n",
    "  tf_valid_dataset = tf.constant(valid_dataset)\n",
    "  tf_test_dataset = tf.constant(test_dataset)\n",
    "  \n",
    "  # Variables.\n",
    "  weightsHidden = tf.Variable(tf.truncated_normal([image_size * image_size, hidden_layer_size]))\n",
    "  biasesHidden = tf.Variable(tf.zeros([hidden_layer_size]))\n",
    "  \n",
    "  logitsHidden = tf.matmul(tf_train_dataset, weightsHidden) + biasesHidden\n",
    "  hiddenLayer = tf.nn.relu(logitsHidden)\n",
    "\n",
    "\n",
    "\n",
    "  # Add a 50% dropout during training only. Dropout also scales\n",
    "  # activations such that no rescaling is needed at evaluation time.\n",
    "  hidden = tf.nn.dropout(hiddenLayer, 0.5, seed=None)\n",
    "\n",
    "  weights = tf.Variable(tf.truncated_normal([hidden_layer_size, num_labels]))\n",
    "  biases = tf.Variable(tf.zeros([num_labels]))  \n",
    "  \n",
    "  # Training computation.\n",
    "  logits = tf.matmul(hidden, weights) + biases\n",
    "  loss = tf.reduce_mean(tf.nn.softmax_cross_entropy_with_logits(logits, tf_train_labels))\n",
    "    \n",
    "  # L2 regularization for the fully connected parameters.\n",
    "  regularizers = (tf.nn.l2_loss(weightsHidden) + tf.nn.l2_loss(biasesHidden) +\n",
    "                  tf.nn.l2_loss(weights) + tf.nn.l2_loss(biases))\n",
    "  # Add the regularization term to the loss.\n",
    "  loss += 5e-4 * regularizers\n",
    " \n",
    "  # Optimizer.\n",
    "  optimizer = tf.train.GradientDescentOptimizer(0.5).minimize(loss)\n",
    "  \n",
    "  # Predictions for the training, validation, and test data.\n",
    "  train_prediction = tf.nn.softmax(logits)\n",
    "    \n",
    "  valid_hidden = tf.nn.relu(tf.matmul(tf_valid_dataset, weightsHidden) + biasesHidden)\n",
    "  valid_logits = tf.matmul(valid_hidden, weights) + biases\n",
    "  valid_prediction = tf.nn.softmax(valid_logits)\n",
    "    \n",
    "  test_hidden = tf.nn.relu(tf.matmul(tf_test_dataset, weightsHidden) + biasesHidden)\n",
    "  test_logits = tf.matmul(test_hidden, weights) + biases\n",
    "  test_prediction = tf.nn.softmax(test_logits)"
   ]
  },
  {
   "cell_type": "code",
   "execution_count": 23,
   "metadata": {
    "collapsed": false
   },
   "outputs": [
    {
     "name": "stdout",
     "output_type": "stream",
     "text": [
      "Initialized\n",
      "Minibatch loss at step 0: 569.167786\n",
      "Minibatch accuracy: 8.0%\n",
      "Validation accuracy: 23.2%\n",
      "Minibatch loss at step 500: 252.663818\n",
      "Minibatch accuracy: 68.0%\n",
      "Validation accuracy: 72.8%\n",
      "Minibatch loss at step 1000: 302.984375\n",
      "Minibatch accuracy: 64.0%\n",
      "Validation accuracy: 74.8%\n",
      "Minibatch loss at step 1500: 236.571564\n",
      "Minibatch accuracy: 68.0%\n",
      "Validation accuracy: 74.4%\n",
      "Minibatch loss at step 2000: 180.924744\n",
      "Minibatch accuracy: 56.0%\n",
      "Validation accuracy: 71.8%\n",
      "Minibatch loss at step 2500: 112.501534\n",
      "Minibatch accuracy: 72.0%\n",
      "Validation accuracy: 70.3%\n",
      "Minibatch loss at step 3000: 130.724213\n",
      "Minibatch accuracy: 70.0%\n",
      "Validation accuracy: 73.5%\n",
      "Test accuracy: 80.8%\n"
     ]
    }
   ],
   "source": [
    "num_steps = 3001\n",
    "\n",
    "with tf.Session(graph=graph) as session:\n",
    "  tf.initialize_all_variables().run()\n",
    "  print(\"Initialized\")\n",
    "  for step in range(num_steps):\n",
    "    # Pick an offset within the training data, which has been randomized.\n",
    "    # Note: we could use better randomization across epochs.\n",
    "    offset = (step * batch_size) % (train_labels.shape[0] - batch_size)\n",
    "    # Generate a minibatch.\n",
    "    batch_data = train_dataset[offset:(offset + batch_size), :]\n",
    "    batch_labels = train_labels[offset:(offset + batch_size), :]\n",
    "    # Prepare a dictionary telling the session where to feed the minibatch.\n",
    "    # The key of the dictionary is the placeholder node of the graph to be fed,\n",
    "    # and the value is the numpy array to feed to it.\n",
    "    feed_dict = {tf_train_dataset : batch_data, tf_train_labels : batch_labels}\n",
    "    _, l, predictions = session.run([optimizer, loss, train_prediction], feed_dict=feed_dict)\n",
    "    if (step % 500 == 0):\n",
    "      print(\"Minibatch loss at step %d: %f\" % (step, l))\n",
    "      print(\"Minibatch accuracy: %.1f%%\" % accuracy(predictions, batch_labels))\n",
    "      print(\"Validation accuracy: %.1f%%\" % accuracy(valid_prediction.eval(), valid_labels))\n",
    "  print(\"Test accuracy: %.1f%%\" % accuracy(test_prediction.eval(), test_labels))"
   ]
  },
  {
   "cell_type": "markdown",
   "metadata": {
    "colab_type": "text",
    "id": "-b1hTz3VWZjw"
   },
   "source": [
    "---\n",
    "Problem 4\n",
    "---------\n",
    "\n",
    "Try to get the best performance you can using a multi-layer model! The best reported test accuracy using a deep network is [97.1%](http://yaroslavvb.blogspot.com/2011/09/notmnist-dataset.html?showComment=1391023266211#c8758720086795711595).\n",
    "\n",
    "One avenue you can explore is to add multiple layers.\n",
    "\n",
    "Another one is to use learning rate decay:\n",
    "\n",
    "    global_step = tf.Variable(0)  # count the number of steps taken.\n",
    "    learning_rate = tf.train.exponential_decay(0.5, step, ...)\n",
    "    optimizer = tf.train.GradientDescentOptimizer(learning_rate).minimize(loss, global_step=global_step)\n",
    " \n",
    " ---\n"
   ]
  },
  {
   "cell_type": "markdown",
   "metadata": {},
   "source": [
    "# Use learning rate decay:"
   ]
  },
  {
   "cell_type": "code",
   "execution_count": 34,
   "metadata": {
    "collapsed": true
   },
   "outputs": [],
   "source": [
    "batch_size = 128\n",
    "hidden_layer_size = 1024\n",
    "\n",
    "graph = tf.Graph()\n",
    "with graph.as_default():\n",
    "\n",
    "  # Input data. For the training data, we use a placeholder that will be fed\n",
    "  # at run time with a training minibatch.\n",
    "  tf_train_dataset = tf.placeholder(tf.float32,shape=(batch_size, image_size * image_size))\n",
    "  tf_train_labels = tf.placeholder(tf.float32, shape=(batch_size, num_labels))\n",
    "  tf_valid_dataset = tf.constant(valid_dataset)\n",
    "  tf_test_dataset = tf.constant(test_dataset)\n",
    "  \n",
    "  # Variables.\n",
    "  weightsHidden = tf.Variable(tf.truncated_normal([image_size * image_size, hidden_layer_size]))\n",
    "  biasesHidden = tf.Variable(tf.zeros([hidden_layer_size]))\n",
    "  \n",
    "  logitsHidden = tf.matmul(tf_train_dataset, weightsHidden) + biasesHidden\n",
    "  hiddenLayer = tf.nn.relu(logitsHidden)\n",
    "\n",
    "\n",
    "\n",
    "  # Add a 50% dropout during training only. Dropout also scales\n",
    "  # activations such that no rescaling is needed at evaluation time.\n",
    "  hidden = tf.nn.dropout(hiddenLayer, 0.5)\n",
    "\n",
    "  weights = tf.Variable(tf.truncated_normal([hidden_layer_size, num_labels]))\n",
    "  biases = tf.Variable(tf.zeros([num_labels]))  \n",
    "  \n",
    "  # Training computation.\n",
    "  logits = tf.matmul(hidden, weights) + biases\n",
    "  loss = tf.reduce_mean(tf.nn.softmax_cross_entropy_with_logits(logits, tf_train_labels))\n",
    "    \n",
    "  # L2 regularization for the fully connected parameters.\n",
    "  regularizers = (tf.nn.l2_loss(weightsHidden) + tf.nn.l2_loss(biasesHidden) +\n",
    "                  tf.nn.l2_loss(weights) + tf.nn.l2_loss(biases))\n",
    "  # Add the regularization term to the loss.\n",
    "  loss += 5e-4 * regularizers\n",
    " \n",
    "  # Optimizer.\n",
    "  global_step = tf.Variable(0)  # count the number of steps taken.\n",
    "  learning_rate = tf.train.exponential_decay(0.5, global_step, 1, 0.9999)\n",
    "  optimizer = tf.train.GradientDescentOptimizer(learning_rate).minimize(loss, global_step=global_step)\n",
    "  #optimizer = tf.train.GradientDescentOptimizer(0.5).minimize(loss)\n",
    "  \n",
    "  # Predictions for the training, validation, and test data.\n",
    "  train_prediction = tf.nn.softmax(logits)\n",
    "    \n",
    "  valid_hidden = tf.nn.relu(tf.matmul(tf_valid_dataset, weightsHidden) + biasesHidden)\n",
    "  valid_logits = tf.matmul(valid_hidden, weights) + biases\n",
    "  valid_prediction = tf.nn.softmax(valid_logits)\n",
    "    \n",
    "  test_hidden = tf.nn.relu(tf.matmul(tf_test_dataset, weightsHidden) + biasesHidden)\n",
    "  test_logits = tf.matmul(test_hidden, weights) + biases\n",
    "  test_prediction = tf.nn.softmax(test_logits)"
   ]
  },
  {
   "cell_type": "code",
   "execution_count": 35,
   "metadata": {
    "collapsed": false,
    "scrolled": true
   },
   "outputs": [
    {
     "name": "stdout",
     "output_type": "stream",
     "text": [
      "Initialized\n",
      "Minibatch loss at step 0: 599.599609\n",
      "Minibatch accuracy: 8.6%\n",
      "Validation accuracy: 33.0%\n",
      "Test accuracy: 35.6%\n",
      "\n",
      "Minibatch loss at step 500: 142.883652\n",
      "Minibatch accuracy: 75.0%\n",
      "Validation accuracy: 79.9%\n",
      "Minibatch loss at step 1000: 107.459633\n",
      "Minibatch accuracy: 74.2%\n",
      "Validation accuracy: 81.0%\n",
      "Minibatch loss at step 1500: 81.212326\n",
      "Minibatch accuracy: 79.7%\n",
      "Validation accuracy: 79.3%\n",
      "Minibatch loss at step 2000: 63.392540\n",
      "Minibatch accuracy: 83.6%\n",
      "Validation accuracy: 81.0%\n",
      "Test accuracy: 88.5%\n",
      "\n",
      "Minibatch loss at step 2500: 52.435539\n",
      "Minibatch accuracy: 79.7%\n",
      "Validation accuracy: 82.6%\n",
      "Minibatch loss at step 3000: 42.954815\n",
      "Minibatch accuracy: 78.9%\n",
      "Validation accuracy: 83.0%\n",
      "Minibatch loss at step 3500: 36.482975\n",
      "Minibatch accuracy: 79.7%\n",
      "Validation accuracy: 83.5%\n",
      "Minibatch loss at step 4000: 30.742538\n",
      "Minibatch accuracy: 81.2%\n",
      "Validation accuracy: 83.5%\n",
      "Test accuracy: 91.0%\n",
      "\n",
      "Minibatch loss at step 4500: 26.143751\n",
      "Minibatch accuracy: 82.0%\n",
      "Validation accuracy: 84.3%\n",
      "Minibatch loss at step 5000: 22.377289\n",
      "Minibatch accuracy: 85.2%\n",
      "Validation accuracy: 84.7%\n",
      "Minibatch loss at step 5500: 18.982464\n",
      "Minibatch accuracy: 81.2%\n",
      "Validation accuracy: 85.1%\n",
      "Minibatch loss at step 6000: 16.491308\n",
      "Minibatch accuracy: 79.7%\n",
      "Validation accuracy: 85.0%\n",
      "Test accuracy: 92.0%\n",
      "\n",
      "Minibatch loss at step 6500: 14.255102\n",
      "Minibatch accuracy: 88.3%\n",
      "Validation accuracy: 85.6%\n",
      "Minibatch loss at step 7000: 12.946403\n",
      "Minibatch accuracy: 81.2%\n",
      "Validation accuracy: 86.0%\n",
      "Minibatch loss at step 7500: 11.405427\n",
      "Minibatch accuracy: 78.9%\n",
      "Validation accuracy: 86.2%\n",
      "Minibatch loss at step 8000: 10.554332\n",
      "Minibatch accuracy: 75.0%\n",
      "Validation accuracy: 86.6%\n",
      "Test accuracy: 92.9%\n",
      "\n",
      "Minibatch loss at step 8500: 8.959044\n",
      "Minibatch accuracy: 90.6%\n",
      "Validation accuracy: 86.7%\n",
      "Minibatch loss at step 9000: 8.388389\n",
      "Minibatch accuracy: 84.4%\n",
      "Validation accuracy: 86.9%\n",
      "Minibatch loss at step 9500: 7.491699\n",
      "Minibatch accuracy: 86.7%\n",
      "Validation accuracy: 86.8%\n",
      "Minibatch loss at step 10000: 7.017531\n",
      "Minibatch accuracy: 84.4%\n",
      "Validation accuracy: 87.2%\n",
      "Test accuracy: 93.6%\n",
      "\n",
      "Test accuracy: 93.6%\n"
     ]
    }
   ],
   "source": [
    "num_steps = 10001\n",
    "\n",
    "with tf.Session(graph=graph) as session:\n",
    "  tf.initialize_all_variables().run()\n",
    "  print(\"Initialized\")\n",
    "  for step in range(num_steps):\n",
    "    # Pick an offset within the training data, which has been randomized.\n",
    "    # Note: we could use better randomization across epochs.\n",
    "    offset = (step * batch_size) % (train_labels.shape[0] - batch_size)\n",
    "    # Generate a minibatch.\n",
    "    batch_data = train_dataset[offset:(offset + batch_size), :]\n",
    "    batch_labels = train_labels[offset:(offset + batch_size), :]\n",
    "    # Prepare a dictionary telling the session where to feed the minibatch.\n",
    "    # The key of the dictionary is the placeholder node of the graph to be fed,\n",
    "    # and the value is the numpy array to feed to it.\n",
    "    feed_dict = {tf_train_dataset : batch_data, tf_train_labels : batch_labels}\n",
    "    _, l, predictions = session.run([optimizer, loss, train_prediction], feed_dict=feed_dict)\n",
    "    if (step % 500 == 0):\n",
    "      print(\"Minibatch loss at step %d: %f\" % (step, l))\n",
    "      print(\"Minibatch accuracy: %.1f%%\" % accuracy(predictions, batch_labels))\n",
    "      print(\"Validation accuracy: %.1f%%\" % accuracy(valid_prediction.eval(), valid_labels))\n",
    "    if (step % 2000 == 0):\n",
    "      print(\"Test accuracy: %.1f%%\\n\" % accuracy(test_prediction.eval(), test_labels))\n",
    "  print(\"Test accuracy: %.1f%%\" % accuracy(test_prediction.eval(), test_labels))"
   ]
  },
  {
   "cell_type": "markdown",
   "metadata": {},
   "source": [
    "# Deeper Network along with learning rate decay:"
   ]
  },
  {
   "cell_type": "markdown",
   "metadata": {},
   "source": [
    "First try: 2 relu hidden layers with 1024 nodes. Use dropout 50%. Use learning rate decay. \n",
    "Final test accuracy is: 95.7%"
   ]
  },
  {
   "cell_type": "code",
   "execution_count": 49,
   "metadata": {
    "collapsed": false
   },
   "outputs": [],
   "source": [
    "import math as math\n",
    "batch_size = 128\n",
    "\n",
    "graph = tf.Graph()\n",
    "with graph.as_default():\n",
    "\n",
    "  # Input data. For the training data, we use a placeholder that will be fed\n",
    "  # at run time with a training minibatch.\n",
    "  tf_train_dataset = tf.placeholder(tf.float32,shape=(batch_size, image_size * image_size))\n",
    "  tf_train_labels = tf.placeholder(tf.float32, shape=(batch_size, num_labels))\n",
    "  tf_valid_dataset = tf.constant(valid_dataset)\n",
    "  tf_test_dataset = tf.constant(test_dataset)\n",
    "  \n",
    "  # Hidden Layer 1, 1024 nodes\n",
    "  weightsHidden1 = tf.Variable(tf.truncated_normal([image_size * image_size, 1024], stddev=math.sqrt(2.0/1024)))\n",
    "  biasesHidden1 = tf.Variable(tf.zeros([1024]))\n",
    "  logitsHidden1 = tf.matmul(tf_train_dataset, weightsHidden1) + biasesHidden1\n",
    "  hiddenLayer1 = tf.nn.relu(logitsHidden1)\n",
    "\n",
    "  # Hidden Layer 2, 1024 nodes\n",
    "  weightsHidden2 = tf.Variable(tf.truncated_normal([1024, 1024], stddev=math.sqrt(2.0/1024)))\n",
    "  biasesHidden2 = tf.Variable(tf.zeros([1024]))\n",
    "  logitsHidden2 = tf.matmul(hiddenLayer1, weightsHidden2) + biasesHidden2\n",
    "  hiddenLayer2 = tf.nn.relu(logitsHidden2)\n",
    "\n",
    "\n",
    "  # Add a 50% dropout during training only. Dropout also scales\n",
    "  # activations such that no rescaling is needed at evaluation time.\n",
    "  hidden = tf.nn.dropout(hiddenLayer2, 0.5)\n",
    "\n",
    "  # Training computation.\n",
    "  weights = tf.Variable(tf.truncated_normal([1024, num_labels], stddev=math.sqrt(2.0/1024)))\n",
    "  biases = tf.Variable(tf.zeros([num_labels]))  \n",
    "  logits = tf.matmul(hidden, weights) + biases\n",
    "  loss = tf.reduce_mean(tf.nn.softmax_cross_entropy_with_logits(logits, tf_train_labels))\n",
    "    \n",
    "  # L2 regularization for the fully connected parameters.\n",
    "  regularizers = (tf.nn.l2_loss(weightsHidden1) + tf.nn.l2_loss(biasesHidden1) +\n",
    "                  tf.nn.l2_loss(weightsHidden2) + tf.nn.l2_loss(biasesHidden2) +\n",
    "                  tf.nn.l2_loss(weights) + tf.nn.l2_loss(biases))\n",
    "  # Add the regularization term to the loss.\n",
    "  loss += 5e-4 * regularizers\n",
    " \n",
    "  # Optimizer.\n",
    "  global_step = tf.Variable(0)  # count the number of steps taken.\n",
    "  learning_rate = tf.train.exponential_decay(0.5, global_step, 1, 0.9999)\n",
    "  optimizer = tf.train.GradientDescentOptimizer(learning_rate).minimize(loss, global_step=global_step)\n",
    "  #optimizer = tf.train.GradientDescentOptimizer(0.5).minimize(loss)\n",
    "  \n",
    "  # Predictions for the training, validation, and test data.\n",
    "  train_prediction = tf.nn.softmax(logits)\n",
    "    \n",
    "  valid_hidden1 = tf.nn.relu(tf.matmul(tf_valid_dataset, weightsHidden1) + biasesHidden1)\n",
    "  valid_hidden2 = tf.nn.relu(tf.matmul(valid_hidden1, weightsHidden2) + biasesHidden2)\n",
    "  valid_logits = tf.matmul(valid_hidden2, weights) + biases\n",
    "  valid_prediction = tf.nn.softmax(valid_logits)\n",
    "    \n",
    "  test_hidden1 = tf.nn.relu(tf.matmul(tf_test_dataset, weightsHidden1) + biasesHidden1)\n",
    "  test_hidden2 = tf.nn.relu(tf.matmul(test_hidden1, weightsHidden2) + biasesHidden2)\n",
    "  test_logits = tf.matmul(test_hidden2, weights) + biases\n",
    "  test_prediction = tf.nn.softmax(test_logits)"
   ]
  },
  {
   "cell_type": "code",
   "execution_count": 50,
   "metadata": {
    "collapsed": false
   },
   "outputs": [
    {
     "name": "stdout",
     "output_type": "stream",
     "text": [
      "Initialized\n",
      "Minibatch loss at step 0: 3.088232\n",
      "Minibatch accuracy: 10.2%\n",
      "Validation accuracy: 30.1%\n",
      "Test accuracy: 32.8%\n",
      "\n",
      "Minibatch loss at step 500: 0.969278\n",
      "Minibatch accuracy: 88.3%\n",
      "Validation accuracy: 85.5%\n",
      "Minibatch loss at step 1000: 0.945249\n",
      "Minibatch accuracy: 85.2%\n",
      "Validation accuracy: 86.6%\n",
      "Minibatch loss at step 1500: 0.669433\n",
      "Minibatch accuracy: 92.2%\n",
      "Validation accuracy: 87.8%\n",
      "Minibatch loss at step 2000: 0.637509\n",
      "Minibatch accuracy: 93.8%\n",
      "Validation accuracy: 88.1%\n",
      "Test accuracy: 94.5%\n",
      "\n",
      "Minibatch loss at step 2500: 0.632518\n",
      "Minibatch accuracy: 89.1%\n",
      "Validation accuracy: 88.4%\n",
      "Minibatch loss at step 3000: 0.631444\n",
      "Minibatch accuracy: 87.5%\n",
      "Validation accuracy: 89.0%\n",
      "Minibatch loss at step 3500: 0.663117\n",
      "Minibatch accuracy: 89.1%\n",
      "Validation accuracy: 88.8%\n",
      "Minibatch loss at step 4000: 0.502761\n",
      "Minibatch accuracy: 93.8%\n",
      "Validation accuracy: 89.2%\n",
      "Test accuracy: 95.0%\n",
      "\n",
      "Minibatch loss at step 4500: 0.488989\n",
      "Minibatch accuracy: 90.6%\n",
      "Validation accuracy: 89.0%\n",
      "Minibatch loss at step 5000: 0.528370\n",
      "Minibatch accuracy: 89.8%\n",
      "Validation accuracy: 89.8%\n",
      "Minibatch loss at step 5500: 0.488789\n",
      "Minibatch accuracy: 88.3%\n",
      "Validation accuracy: 89.4%\n",
      "Minibatch loss at step 6000: 0.645717\n",
      "Minibatch accuracy: 86.7%\n",
      "Validation accuracy: 89.5%\n",
      "Test accuracy: 95.1%\n",
      "\n",
      "Minibatch loss at step 6500: 0.410496\n",
      "Minibatch accuracy: 94.5%\n",
      "Validation accuracy: 89.6%\n",
      "Minibatch loss at step 7000: 0.547202\n",
      "Minibatch accuracy: 88.3%\n",
      "Validation accuracy: 89.9%\n",
      "Minibatch loss at step 7500: 0.525832\n",
      "Minibatch accuracy: 88.3%\n",
      "Validation accuracy: 89.9%\n",
      "Minibatch loss at step 8000: 0.616851\n",
      "Minibatch accuracy: 85.2%\n",
      "Validation accuracy: 89.6%\n",
      "Test accuracy: 95.1%\n",
      "\n",
      "Minibatch loss at step 8500: 0.407556\n",
      "Minibatch accuracy: 93.0%\n",
      "Validation accuracy: 90.1%\n",
      "Minibatch loss at step 9000: 0.487203\n",
      "Minibatch accuracy: 90.6%\n",
      "Validation accuracy: 89.7%\n",
      "Minibatch loss at step 9500: 0.428250\n",
      "Minibatch accuracy: 90.6%\n",
      "Validation accuracy: 90.4%\n",
      "Minibatch loss at step 10000: 0.432647\n",
      "Minibatch accuracy: 88.3%\n",
      "Validation accuracy: 89.8%\n",
      "Test accuracy: 95.6%\n",
      "\n",
      "Final Test accuracy: 95.6%\n"
     ]
    }
   ],
   "source": [
    "num_steps = 10001\n",
    "\n",
    "with tf.Session(graph=graph) as session:\n",
    "  tf.initialize_all_variables().run()\n",
    "  print(\"Initialized\")\n",
    "  for step in range(num_steps):\n",
    "    # Pick an offset within the training data, which has been randomized.\n",
    "    # Note: we could use better randomization across epochs.\n",
    "    offset = (step * batch_size) % (train_labels.shape[0] - batch_size)\n",
    "    # Generate a minibatch.\n",
    "    batch_data = train_dataset[offset:(offset + batch_size), :]\n",
    "    batch_labels = train_labels[offset:(offset + batch_size), :]\n",
    "    # Prepare a dictionary telling the session where to feed the minibatch.\n",
    "    # The key of the dictionary is the placeholder node of the graph to be fed,\n",
    "    # and the value is the numpy array to feed to it.\n",
    "    feed_dict = {tf_train_dataset : batch_data, tf_train_labels : batch_labels}\n",
    "    _, l, predictions = session.run([optimizer, loss, train_prediction], feed_dict=feed_dict)\n",
    "    if (step % 500 == 0):\n",
    "      print(\"Minibatch loss at step %d: %f\" % (step, l))\n",
    "      print(\"Minibatch accuracy: %.1f%%\" % accuracy(predictions, batch_labels))\n",
    "      print(\"Validation accuracy: %.1f%%\" % accuracy(valid_prediction.eval(), valid_labels))\n",
    "    if (step % 2000 == 0):\n",
    "      print(\"Test accuracy: %.1f%%\\n\" % accuracy(test_prediction.eval(), test_labels))\n",
    "  print(\"Final Test accuracy: %.1f%%\" % accuracy(test_prediction.eval(), test_labels))"
   ]
  },
  {
   "cell_type": "markdown",
   "metadata": {},
   "source": [
    "Second try:"
   ]
  },
  {
   "cell_type": "code",
   "execution_count": 53,
   "metadata": {
    "collapsed": true
   },
   "outputs": [],
   "source": [
    "import math as math\n",
    "batch_size = 128\n",
    "\n",
    "graph = tf.Graph()\n",
    "with graph.as_default():\n",
    "\n",
    "  # Input data. For the training data, we use a placeholder that will be fed\n",
    "  # at run time with a training minibatch.\n",
    "  tf_train_dataset = tf.placeholder(tf.float32,shape=(batch_size, image_size * image_size))\n",
    "  tf_train_labels = tf.placeholder(tf.float32, shape=(batch_size, num_labels))\n",
    "  tf_valid_dataset = tf.constant(valid_dataset)\n",
    "  tf_test_dataset = tf.constant(test_dataset)\n",
    "  \n",
    "  # Hidden Layer 1, 1024 nodes\n",
    "  h1_size = 1024\n",
    "  weightsHidden1 = tf.Variable(tf.truncated_normal([image_size * image_size, h1_size], stddev=math.sqrt(2.0/(image_size * image_size))))\n",
    "  biasesHidden1 = tf.Variable(tf.zeros([h1_size]))\n",
    "  logitsHidden1 = tf.matmul(tf_train_dataset, weightsHidden1) + biasesHidden1\n",
    "  hiddenLayer1 = tf.nn.relu(logitsHidden1)\n",
    "\n",
    "  # Hidden Layer 2, 1024 nodes\n",
    "  h2_size = 1024\n",
    "  weightsHidden2 = tf.Variable(tf.truncated_normal([h1_size, h2_size], stddev=math.sqrt(2.0/h1_size)))\n",
    "  biasesHidden2 = tf.Variable(tf.zeros([h2_size]))\n",
    "  logitsHidden2 = tf.matmul(hiddenLayer1, weightsHidden2) + biasesHidden2\n",
    "  hiddenLayer2 = tf.nn.relu(logitsHidden2)\n",
    "\n",
    "  # Hidden Layer 3, 305 nodes\n",
    "  h3_size = 305\n",
    "  weightsHidden3 = tf.Variable(tf.truncated_normal([h2_size, h3_size], stddev=math.sqrt(2.0/h2_size)))\n",
    "  biasesHidden3 = tf.Variable(tf.zeros([h3_size]))\n",
    "  logitsHidden3 = tf.matmul(hiddenLayer2, weightsHidden3) + biasesHidden3\n",
    "  hiddenLayer3 = tf.nn.relu(logitsHidden3)\n",
    "    \n",
    "  # Hidden Layer 4, 75 nodes\n",
    "  h4_size = 75\n",
    "  weightsHidden4 = tf.Variable(tf.truncated_normal([h3_size, h4_size], stddev=math.sqrt(2.0/h3_size)))\n",
    "  biasesHidden4 = tf.Variable(tf.zeros([h4_size]))\n",
    "  logitsHidden4 = tf.matmul(hiddenLayer3, weightsHidden4) + biasesHidden4\n",
    "  hiddenLayer4 = tf.nn.relu(logitsHidden4)\n",
    "\n",
    "\n",
    "  # Add a 50% dropout during training only. Dropout also scales\n",
    "  # activations such that no rescaling is needed at evaluation time.\n",
    "  hidden = tf.nn.dropout(hiddenLayer4, 0.5)\n",
    "\n",
    "  # Training computation.\n",
    "  weights = tf.Variable(tf.truncated_normal([h4_size, num_labels], stddev=math.sqrt(2.0/h4_size)))\n",
    "  biases = tf.Variable(tf.zeros([num_labels]))  \n",
    "  logits = tf.matmul(hidden, weights) + biases\n",
    "  loss = tf.reduce_mean(tf.nn.softmax_cross_entropy_with_logits(logits, tf_train_labels))\n",
    "    \n",
    "  # L2 regularization for the fully connected parameters.\n",
    "  regularizers = (tf.nn.l2_loss(weightsHidden1) + tf.nn.l2_loss(biasesHidden1) +\n",
    "                  tf.nn.l2_loss(weightsHidden2) + tf.nn.l2_loss(biasesHidden2) +\n",
    "                  tf.nn.l2_loss(weightsHidden3) + tf.nn.l2_loss(biasesHidden3) +\n",
    "                  tf.nn.l2_loss(weightsHidden4) + tf.nn.l2_loss(biasesHidden4) +\n",
    "                  tf.nn.l2_loss(weights) + tf.nn.l2_loss(biases))\n",
    "  # Add the regularization term to the loss.\n",
    "  loss += 1e-5 * regularizers\n",
    " \n",
    "  # Optimizer.\n",
    "  global_step = tf.Variable(0)  # count the number of steps taken.\n",
    "  learning_rate = tf.train.exponential_decay(0.5, global_step, 1, 0.9999)\n",
    "  optimizer = tf.train.GradientDescentOptimizer(learning_rate).minimize(loss, global_step=global_step)\n",
    "  #optimizer = tf.train.GradientDescentOptimizer(0.5).minimize(loss)\n",
    "  \n",
    "  # Predictions for the training, validation, and test data.\n",
    "  train_prediction = tf.nn.softmax(logits)\n",
    "    \n",
    "  valid_hidden1 = tf.nn.relu(tf.matmul(tf_valid_dataset, weightsHidden1) + biasesHidden1)\n",
    "  valid_hidden2 = tf.nn.relu(tf.matmul(valid_hidden1, weightsHidden2) + biasesHidden2)\n",
    "  valid_hidden3 = tf.nn.relu(tf.matmul(valid_hidden2, weightsHidden3) + biasesHidden3)\n",
    "  valid_hidden4 = tf.nn.relu(tf.matmul(valid_hidden3, weightsHidden4) + biasesHidden4)\n",
    "  valid_logits = tf.matmul(valid_hidden4, weights) + biases\n",
    "  valid_prediction = tf.nn.softmax(valid_logits)\n",
    "    \n",
    "  test_hidden1 = tf.nn.relu(tf.matmul(tf_test_dataset, weightsHidden1) + biasesHidden1)\n",
    "  test_hidden2 = tf.nn.relu(tf.matmul(test_hidden1, weightsHidden2) + biasesHidden2)\n",
    "  test_hidden3 = tf.nn.relu(tf.matmul(test_hidden2, weightsHidden3) + biasesHidden3)\n",
    "  test_hidden4 = tf.nn.relu(tf.matmul(test_hidden3, weightsHidden4) + biasesHidden4)\n",
    "  test_logits = tf.matmul(test_hidden4, weights) + biases\n",
    "  test_prediction = tf.nn.softmax(test_logits)"
   ]
  },
  {
   "cell_type": "code",
   "execution_count": null,
   "metadata": {
    "collapsed": false
   },
   "outputs": [
    {
     "name": "stdout",
     "output_type": "stream",
     "text": [
      "Initialized\n",
      "Minibatch loss at step 0: 2.442561"
     ]
    }
   ],
   "source": [
    "num_steps = 10001\n",
    "\n",
    "with tf.Session(graph=graph) as session:\n",
    "  tf.initialize_all_variables().run()\n",
    "  print(\"Initialized\")\n",
    "  for step in range(num_steps):\n",
    "    # Pick an offset within the training data, which has been randomized.\n",
    "    # Note: we could use better randomization across epochs.\n",
    "    offset = (step * batch_size) % (train_labels.shape[0] - batch_size)\n",
    "    # Generate a minibatch.\n",
    "    batch_data = train_dataset[offset:(offset + batch_size), :]\n",
    "    batch_labels = train_labels[offset:(offset + batch_size), :]\n",
    "    # Prepare a dictionary telling the session where to feed the minibatch.\n",
    "    # The key of the dictionary is the placeholder node of the graph to be fed,\n",
    "    # and the value is the numpy array to feed to it.\n",
    "    feed_dict = {tf_train_dataset : batch_data, tf_train_labels : batch_labels}\n",
    "    _, l, predictions = session.run([optimizer, loss, train_prediction], feed_dict=feed_dict)\n",
    "    if (step % 500 == 0):\n",
    "      print(\"Minibatch loss at step %d: %f\" % (step, l))\n",
    "      print(\"Minibatch accuracy: %.1f%%\" % accuracy(predictions, batch_labels))\n",
    "      print(\"Validation accuracy: %.1f%%\" % accuracy(valid_prediction.eval(), valid_labels))\n",
    "    if (step % 2000 == 0):\n",
    "      print(\"Test accuracy: %.1f%%\\n\" % accuracy(test_prediction.eval(), test_labels))\n",
    "  print(\"Final Test accuracy: %.1f%%\" % accuracy(test_prediction.eval(), test_labels))"
   ]
  }
 ],
 "metadata": {
  "colab": {
   "default_view": {},
   "name": "3_regularization.ipynb",
   "provenance": [],
   "version": "0.3.2",
   "views": {}
  },
  "kernelspec": {
   "display_name": "Python 2",
   "language": "python",
   "name": "python2"
  },
  "language_info": {
   "codemirror_mode": {
    "name": "ipython",
    "version": 2
   },
   "file_extension": ".py",
   "mimetype": "text/x-python",
   "name": "python",
   "nbconvert_exporter": "python",
   "pygments_lexer": "ipython2",
   "version": "2.7.11"
  }
 },
 "nbformat": 4,
 "nbformat_minor": 0
}
